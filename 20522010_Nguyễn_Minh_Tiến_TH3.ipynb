{
 "cells": [
  {
   "cell_type": "markdown",
   "metadata": {
    "id": "8A0iLXV8rR5k"
   },
   "source": [
    "**Bài 1:** Thực hiện lại các bước như hướng dẫn để xây dựng mô hình phân lớp Naive Bayes cho bài toán phân loại cảm xúc người dùng dựa trên bộ dữ liệu UIT-VSFC."
   ]
  },
  {
   "cell_type": "code",
   "execution_count": 45,
   "metadata": {
    "colab": {
     "base_uri": "https://localhost:8080/"
    },
    "id": "6fIa1JeVrFHT",
    "outputId": "c90a3c41-e8fe-433c-a025-c94536d4c1bf"
   },
   "outputs": [
    {
     "name": "stdout",
     "output_type": "stream",
     "text": [
      "Drive already mounted at /content/drive; to attempt to forcibly remount, call drive.mount(\"/content/drive\", force_remount=True).\n"
     ]
    }
   ],
   "source": [
    "from google.colab import drive\n",
    "drive.mount('/content/drive')"
   ]
  },
  {
   "cell_type": "markdown",
   "metadata": {
    "id": "XOJXsKlYsexZ"
   },
   "source": [
    "1. Đọc dữ liệu"
   ]
  },
  {
   "cell_type": "code",
   "execution_count": 38,
   "metadata": {
    "id": "zOr9wG2prKKQ"
   },
   "outputs": [],
   "source": [
    "import pandas as pd\n",
    "  # Đọc dữ liệu trên tập huấn luyện (train)\n",
    "X_train = pd.read_csv('drive/MyDrive/train/sents.txt', sep='\\n', header=None, index_col=None)\n",
    "y_train = pd.read_csv('drive/MyDrive/train/sentiments.txt', sep='\\n', header=None, index_col=None)\n",
    "  # Đọc dữ liệu trên tập phát triển (development)\n",
    "X_dev = pd.read_csv('drive/MyDrive/dev/sents.txt', sep='\\n', header=None, index_col=None)\n",
    "y_dev = pd.read_csv('drive/MyDrive/dev/sentiments.txt',sep='\\n', header=None, index_col=None)\n",
    "  # Đọc dữ liệu trên tập kiểu thử (test)\n",
    "X_test = pd.read_csv('drive/MyDrive/test/sents.txt', sep='\\n', header=None, index_col=None)\n",
    "y_test = pd.read_csv('drive/MyDrive/test/sentiments.txt', sep='\\n', header=None, index_col=None)"
   ]
  },
  {
   "cell_type": "code",
   "execution_count": 39,
   "metadata": {
    "colab": {
     "base_uri": "https://localhost:8080/",
     "height": 423
    },
    "id": "q4Y6X-yBrahN",
    "outputId": "bd32e026-3edc-4b1e-8201-cf4a7fd7e0bb"
   },
   "outputs": [
    {
     "data": {
      "text/html": [
       "\n",
       "  <div id=\"df-d8511d47-f843-4f88-b457-24e8a45cbe78\">\n",
       "    <div class=\"colab-df-container\">\n",
       "      <div>\n",
       "<style scoped>\n",
       "    .dataframe tbody tr th:only-of-type {\n",
       "        vertical-align: middle;\n",
       "    }\n",
       "\n",
       "    .dataframe tbody tr th {\n",
       "        vertical-align: top;\n",
       "    }\n",
       "\n",
       "    .dataframe thead th {\n",
       "        text-align: right;\n",
       "    }\n",
       "</style>\n",
       "<table border=\"1\" class=\"dataframe\">\n",
       "  <thead>\n",
       "    <tr style=\"text-align: right;\">\n",
       "      <th></th>\n",
       "      <th>0</th>\n",
       "    </tr>\n",
       "  </thead>\n",
       "  <tbody>\n",
       "    <tr>\n",
       "      <th>0</th>\n",
       "      <td>2</td>\n",
       "    </tr>\n",
       "    <tr>\n",
       "      <th>1</th>\n",
       "      <td>2</td>\n",
       "    </tr>\n",
       "    <tr>\n",
       "      <th>2</th>\n",
       "      <td>0</td>\n",
       "    </tr>\n",
       "    <tr>\n",
       "      <th>3</th>\n",
       "      <td>0</td>\n",
       "    </tr>\n",
       "    <tr>\n",
       "      <th>4</th>\n",
       "      <td>2</td>\n",
       "    </tr>\n",
       "    <tr>\n",
       "      <th>...</th>\n",
       "      <td>...</td>\n",
       "    </tr>\n",
       "    <tr>\n",
       "      <th>11421</th>\n",
       "      <td>0</td>\n",
       "    </tr>\n",
       "    <tr>\n",
       "      <th>11422</th>\n",
       "      <td>2</td>\n",
       "    </tr>\n",
       "    <tr>\n",
       "      <th>11423</th>\n",
       "      <td>0</td>\n",
       "    </tr>\n",
       "    <tr>\n",
       "      <th>11424</th>\n",
       "      <td>2</td>\n",
       "    </tr>\n",
       "    <tr>\n",
       "      <th>11425</th>\n",
       "      <td>2</td>\n",
       "    </tr>\n",
       "  </tbody>\n",
       "</table>\n",
       "<p>11426 rows × 1 columns</p>\n",
       "</div>\n",
       "      <button class=\"colab-df-convert\" onclick=\"convertToInteractive('df-d8511d47-f843-4f88-b457-24e8a45cbe78')\"\n",
       "              title=\"Convert this dataframe to an interactive table.\"\n",
       "              style=\"display:none;\">\n",
       "        \n",
       "  <svg xmlns=\"http://www.w3.org/2000/svg\" height=\"24px\"viewBox=\"0 0 24 24\"\n",
       "       width=\"24px\">\n",
       "    <path d=\"M0 0h24v24H0V0z\" fill=\"none\"/>\n",
       "    <path d=\"M18.56 5.44l.94 2.06.94-2.06 2.06-.94-2.06-.94-.94-2.06-.94 2.06-2.06.94zm-11 1L8.5 8.5l.94-2.06 2.06-.94-2.06-.94L8.5 2.5l-.94 2.06-2.06.94zm10 10l.94 2.06.94-2.06 2.06-.94-2.06-.94-.94-2.06-.94 2.06-2.06.94z\"/><path d=\"M17.41 7.96l-1.37-1.37c-.4-.4-.92-.59-1.43-.59-.52 0-1.04.2-1.43.59L10.3 9.45l-7.72 7.72c-.78.78-.78 2.05 0 2.83L4 21.41c.39.39.9.59 1.41.59.51 0 1.02-.2 1.41-.59l7.78-7.78 2.81-2.81c.8-.78.8-2.07 0-2.86zM5.41 20L4 18.59l7.72-7.72 1.47 1.35L5.41 20z\"/>\n",
       "  </svg>\n",
       "      </button>\n",
       "      \n",
       "  <style>\n",
       "    .colab-df-container {\n",
       "      display:flex;\n",
       "      flex-wrap:wrap;\n",
       "      gap: 12px;\n",
       "    }\n",
       "\n",
       "    .colab-df-convert {\n",
       "      background-color: #E8F0FE;\n",
       "      border: none;\n",
       "      border-radius: 50%;\n",
       "      cursor: pointer;\n",
       "      display: none;\n",
       "      fill: #1967D2;\n",
       "      height: 32px;\n",
       "      padding: 0 0 0 0;\n",
       "      width: 32px;\n",
       "    }\n",
       "\n",
       "    .colab-df-convert:hover {\n",
       "      background-color: #E2EBFA;\n",
       "      box-shadow: 0px 1px 2px rgba(60, 64, 67, 0.3), 0px 1px 3px 1px rgba(60, 64, 67, 0.15);\n",
       "      fill: #174EA6;\n",
       "    }\n",
       "\n",
       "    [theme=dark] .colab-df-convert {\n",
       "      background-color: #3B4455;\n",
       "      fill: #D2E3FC;\n",
       "    }\n",
       "\n",
       "    [theme=dark] .colab-df-convert:hover {\n",
       "      background-color: #434B5C;\n",
       "      box-shadow: 0px 1px 3px 1px rgba(0, 0, 0, 0.15);\n",
       "      filter: drop-shadow(0px 1px 2px rgba(0, 0, 0, 0.3));\n",
       "      fill: #FFFFFF;\n",
       "    }\n",
       "  </style>\n",
       "\n",
       "      <script>\n",
       "        const buttonEl =\n",
       "          document.querySelector('#df-d8511d47-f843-4f88-b457-24e8a45cbe78 button.colab-df-convert');\n",
       "        buttonEl.style.display =\n",
       "          google.colab.kernel.accessAllowed ? 'block' : 'none';\n",
       "\n",
       "        async function convertToInteractive(key) {\n",
       "          const element = document.querySelector('#df-d8511d47-f843-4f88-b457-24e8a45cbe78');\n",
       "          const dataTable =\n",
       "            await google.colab.kernel.invokeFunction('convertToInteractive',\n",
       "                                                     [key], {});\n",
       "          if (!dataTable) return;\n",
       "\n",
       "          const docLinkHtml = 'Like what you see? Visit the ' +\n",
       "            '<a target=\"_blank\" href=https://colab.research.google.com/notebooks/data_table.ipynb>data table notebook</a>'\n",
       "            + ' to learn more about interactive tables.';\n",
       "          element.innerHTML = '';\n",
       "          dataTable['output_type'] = 'display_data';\n",
       "          await google.colab.output.renderOutput(dataTable, element);\n",
       "          const docLink = document.createElement('div');\n",
       "          docLink.innerHTML = docLinkHtml;\n",
       "          element.appendChild(docLink);\n",
       "        }\n",
       "      </script>\n",
       "    </div>\n",
       "  </div>\n",
       "  "
      ],
      "text/plain": [
       "       0\n",
       "0      2\n",
       "1      2\n",
       "2      0\n",
       "3      0\n",
       "4      2\n",
       "...   ..\n",
       "11421  0\n",
       "11422  2\n",
       "11423  0\n",
       "11424  2\n",
       "11425  2\n",
       "\n",
       "[11426 rows x 1 columns]"
      ]
     },
     "execution_count": 39,
     "metadata": {},
     "output_type": "execute_result"
    }
   ],
   "source": [
    "y_train"
   ]
  },
  {
   "cell_type": "code",
   "execution_count": 40,
   "metadata": {
    "id": "nFcKZ6S9rdBr"
   },
   "outputs": [],
   "source": [
    "y_train = y_train.values.flatten()\n",
    "y_dev = y_dev.values.flatten()\n",
    "y_test = y_test.values.flatten()"
   ]
  },
  {
   "cell_type": "code",
   "execution_count": 41,
   "metadata": {
    "colab": {
     "base_uri": "https://localhost:8080/"
    },
    "id": "WA5S6rnQrioS",
    "outputId": "7da8ae94-cc08-4c9f-eafb-a20c149cf618"
   },
   "outputs": [
    {
     "data": {
      "text/plain": [
       "array([2, 2, 0, ..., 0, 2, 2])"
      ]
     },
     "execution_count": 41,
     "metadata": {},
     "output_type": "execute_result"
    }
   ],
   "source": [
    "y_train"
   ]
  },
  {
   "cell_type": "markdown",
   "metadata": {
    "id": "2WSrDsqusqaN"
   },
   "source": [
    "2. Mã hoá dữ liệu bằng CountVectorizer"
   ]
  },
  {
   "cell_type": "code",
   "execution_count": 46,
   "metadata": {
    "colab": {
     "base_uri": "https://localhost:8080/"
    },
    "id": "SRq5-lSwsi45",
    "outputId": "f05bff7a-b255-4813-9a9b-3ff3f6abb3fa"
   },
   "outputs": [
    {
     "data": {
      "text/plain": [
       "CountVectorizer(ngram_range=(2, 2))"
      ]
     },
     "execution_count": 46,
     "metadata": {},
     "output_type": "execute_result"
    }
   ],
   "source": [
    "from sklearn.feature_extraction.text import CountVectorizer\n",
    "\n",
    "encoder = CountVectorizer(ngram_range=(2, 2))\n",
    "encoder.fit(X_train[0])"
   ]
  },
  {
   "cell_type": "code",
   "execution_count": 47,
   "metadata": {
    "colab": {
     "base_uri": "https://localhost:8080/"
    },
    "id": "hlk9Ah5Hs13-",
    "outputId": "2279471d-b45d-4600-ef52-d232de7af9e9"
   },
   "outputs": [
    {
     "data": {
      "text/plain": [
       "{'slide giáo': 19651,\n",
       " 'giáo trình': 7042,\n",
       " 'trình đầy': 23733,\n",
       " 'đầy đủ': 30215,\n",
       " 'nhiệt tình': 15712,\n",
       " 'tình giảng': 24486,\n",
       " 'giảng dạy': 7216,\n",
       " 'dạy gần': 5850,\n",
       " 'gần gũi': 7752,\n",
       " 'gũi với': 7734,\n",
       " 'với sinh': 27898,\n",
       " 'sinh viên': 19599,\n",
       " 'đi học': 29041,\n",
       " 'học đầy': 9663,\n",
       " 'đủ full': 31210,\n",
       " 'full điểm': 6736,\n",
       " 'điểm chuyên': 29158,\n",
       " 'chuyên cần': 1996,\n",
       " 'chưa áp': 2398,\n",
       " 'áp dụng': 28786,\n",
       " 'dụng công': 6383,\n",
       " 'công nghệ': 4229,\n",
       " 'nghệ thông': 14845,\n",
       " 'thông tin': 21499,\n",
       " 'tin và': 22823,\n",
       " 'và các': 26723,\n",
       " 'các thiết': 3263,\n",
       " 'thiết bị': 20690,\n",
       " 'bị hỗ': 1334,\n",
       " 'hỗ trợ': 9803,\n",
       " 'trợ cho': 24094,\n",
       " 'cho việc': 1928,\n",
       " 'việc giảng': 26506,\n",
       " 'thầy giảng': 21839,\n",
       " 'giảng bài': 7185,\n",
       " 'bài hay': 567,\n",
       " 'hay có': 7940,\n",
       " 'có nhiều': 3872,\n",
       " 'nhiều bài': 15482,\n",
       " 'bài tập': 670,\n",
       " 'tập ví': 25371,\n",
       " 'ví dụ': 27343,\n",
       " 'dụ ngay': 6325,\n",
       " 'ngay trên': 14592,\n",
       " 'trên lớp': 23548,\n",
       " 'giảng viên': 7312,\n",
       " 'viên đảm': 26412,\n",
       " 'đảm bảo': 30149,\n",
       " 'bảo thời': 1145,\n",
       " 'thời gian': 22458,\n",
       " 'gian lên': 6862,\n",
       " 'lên lớp': 12225,\n",
       " 'lớp tích': 13123,\n",
       " 'tích cực': 24644,\n",
       " 'cực trả': 5170,\n",
       " 'trả lời': 23953,\n",
       " 'lời câu': 13171,\n",
       " 'câu hỏi': 3521,\n",
       " 'hỏi của': 9692,\n",
       " 'của sinh': 5049,\n",
       " 'viên thường': 26306,\n",
       " 'thường xuyên': 21635,\n",
       " 'xuyên đặt': 28478,\n",
       " 'đặt câu': 30246,\n",
       " 'hỏi cho': 9686,\n",
       " 'cho sinh': 1891,\n",
       " 'em sẽ': 6618,\n",
       " 'sẽ nợ': 20084,\n",
       " 'nợ môn': 17534,\n",
       " 'môn này': 13829,\n",
       " 'này nhưng': 16745,\n",
       " 'nhưng em': 16115,\n",
       " 'sẽ học': 20060,\n",
       " 'học lại': 9469,\n",
       " 'lại các': 12605,\n",
       " 'các học': 3214,\n",
       " 'học kỳ': 9455,\n",
       " 'kỳ kế': 11254,\n",
       " 'kế tiếp': 11150,\n",
       " 'thời lượng': 22466,\n",
       " 'lượng học': 12513,\n",
       " 'học quá': 9537,\n",
       " 'quá dài': 18421,\n",
       " 'dài không': 5544,\n",
       " 'không đảm': 10816,\n",
       " 'bảo tiếp': 1148,\n",
       " 'tiếp thu': 22929,\n",
       " 'thu hiệu': 20882,\n",
       " 'hiệu quả': 8412,\n",
       " 'nội dung': 17513,\n",
       " 'dung môn': 5465,\n",
       " 'môn học': 13799,\n",
       " 'học có': 9381,\n",
       " 'có phần': 3900,\n",
       " 'phần thiếu': 18111,\n",
       " 'thiếu trọng': 20763,\n",
       " 'trọng tâm': 24064,\n",
       " 'tâm hầu': 24324,\n",
       " 'hầu như': 9214,\n",
       " 'như là': 15989,\n",
       " 'là chung': 11790,\n",
       " 'chung chung': 1963,\n",
       " 'chung khái': 1973,\n",
       " 'khái quát': 10387,\n",
       " 'quát khiến': 18553,\n",
       " 'khiến sinh': 10147,\n",
       " 'viên rất': 26273,\n",
       " 'rất khó': 19039,\n",
       " 'khó nắm': 10478,\n",
       " 'nắm được': 17393,\n",
       " 'được nội': 29925,\n",
       " 'cần nói': 4749,\n",
       " 'nói rõ': 17178,\n",
       " 'rõ hơn': 18918,\n",
       " 'hơn bằng': 8973,\n",
       " 'bằng cách': 1243,\n",
       " 'cách trình': 3390,\n",
       " 'trình bày': 23602,\n",
       " 'bày lên': 738,\n",
       " 'lên bảng': 12201,\n",
       " 'bảng thay': 1100,\n",
       " 'thay vì': 20511,\n",
       " 'vì nhìn': 27294,\n",
       " 'nhìn vào': 15834,\n",
       " 'vào slide': 27192,\n",
       " 'thầy rất': 21931,\n",
       " 'rất tận': 19135,\n",
       " 'tận tình': 25164,\n",
       " 'tình và': 24607,\n",
       " 'và đi': 27067,\n",
       " 'đi dạy': 29034,\n",
       " 'dạy rất': 5957,\n",
       " 'rất đúng': 19159,\n",
       " 'đúng giờ': 29655,\n",
       " 'dễ bị': 6193,\n",
       " 'bị áp': 1413,\n",
       " 'áp lực': 28787,\n",
       " 'đang dạy': 28981,\n",
       " 'dạy thầy': 5991,\n",
       " 'thầy wzjwz208': 22049,\n",
       " 'wzjwz208 đi': 28157,\n",
       " 'đi qua': 29067,\n",
       " 'qua nước': 18258,\n",
       " 'nước ngoài': 17367,\n",
       " 'ngoài giữa': 14956,\n",
       " 'giữa chừng': 7527,\n",
       " 'chừng thầy': 2930,\n",
       " 'thầy wzjwz209': 22050,\n",
       " 'wzjwz209 dạy': 28158,\n",
       " 'dạy thay': 5978,\n",
       " 'học còn': 9380,\n",
       " 'còn dễ': 3586,\n",
       " 'dễ cần': 6197,\n",
       " 'cần nâng': 4746,\n",
       " 'nâng độ': 16802,\n",
       " 'độ khó': 30991,\n",
       " 'khó lên': 10462,\n",
       " 'lên nữa': 12234,\n",
       " 'có thể': 3938,\n",
       " 'thể cho': 22247,\n",
       " 'viên đi': 26397,\n",
       " 'đi thăm': 29081,\n",
       " 'thăm quan': 21544,\n",
       " 'quan nhiều': 18307,\n",
       " 'nhiều công': 15511,\n",
       " 'công ty': 4241,\n",
       " 'ty xem': 24239,\n",
       " 'xem quy': 28335,\n",
       " 'quy mô': 18358,\n",
       " 'mô và': 13763,\n",
       " 'và cách': 26724,\n",
       " 'cách làm': 3342,\n",
       " 'làm việc': 12141,\n",
       " 'việc để': 26600,\n",
       " 'để giúp': 30621,\n",
       " 'giúp hiểu': 7071,\n",
       " 'hiểu rõ': 8284,\n",
       " 'hơn vê': 9084,\n",
       " 'vê ngành': 27232,\n",
       " 'ngành mình': 15042,\n",
       " 'mình đang': 13738,\n",
       " 'đang học': 28984,\n",
       " 'hài lòng': 8578,\n",
       " 'lòng về': 12306,\n",
       " 'về tất': 27739,\n",
       " 'tất cả': 25138,\n",
       " 'tình vui': 24606,\n",
       " 'vui vẻ': 26673,\n",
       " 'thấy nhiệt': 21706,\n",
       " 'tình trong': 24581,\n",
       " 'trong việc': 23400,\n",
       " 'việc trao': 26572,\n",
       " 'trao đổi': 23290,\n",
       " 'đổi giúp': 30917,\n",
       " 'giúp đỡ': 7090,\n",
       " 'đỡ về': 31170,\n",
       " 'về học': 27662,\n",
       " 'học tập': 9615,\n",
       " 'phong cách': 17636,\n",
       " 'cách giảng': 3318,\n",
       " 'bài của': 551,\n",
       " 'của thầy': 5054,\n",
       " 'rất gần': 19020,\n",
       " 'dạy kết': 5886,\n",
       " 'kết hợp': 11158,\n",
       " 'hợp các': 9839,\n",
       " 'các hoạt': 3209,\n",
       " 'hoạt động': 8457,\n",
       " 'động giải': 31047,\n",
       " 'giải trí': 7134,\n",
       " 'trí có': 23741,\n",
       " 'có hiệu': 3794,\n",
       " 'cần tạo': 4804,\n",
       " 'tạo các': 25012,\n",
       " 'các buổi': 3170,\n",
       " 'buổi seminar': 481,\n",
       " 'seminar để': 19498,\n",
       " 'để sinh': 30697,\n",
       " 'viên có': 26077,\n",
       " 'thể hiểu': 22286,\n",
       " 'hiểu sâu': 8294,\n",
       " 'sâu thêm': 19954,\n",
       " 'thêm về': 21235,\n",
       " 'về các': 27638,\n",
       " 'các vấn': 3287,\n",
       " 'vấn đề': 27429,\n",
       " 'đề trong': 30490,\n",
       " 'trong chuyên': 23319,\n",
       " 'chuyên ngành': 2000,\n",
       " 'ngành nhưng': 15046,\n",
       " 'nhưng không': 16129,\n",
       " 'không có': 10571,\n",
       " 'có trong': 3946,\n",
       " 'trong môn': 23362,\n",
       " 'tiết học': 22976,\n",
       " 'học thoải': 9569,\n",
       " 'thoải mái': 20861,\n",
       " 'thầy nhiệt': 21900,\n",
       " 'tình quan': 24554,\n",
       " 'quan tâm': 18322,\n",
       " 'tâm tới': 24379,\n",
       " 'tới sinh': 25703,\n",
       " 'dạy nhiệt': 5930,\n",
       " 'tình hướng': 24506,\n",
       " 'hướng dẫn': 9151,\n",
       " 'dẫn chi': 6078,\n",
       " 'chi tiết': 1685,\n",
       " 'tiết đến': 23044,\n",
       " 'đến lúc': 30327,\n",
       " 'lúc sinh': 12358,\n",
       " 'viên hiểu': 26133,\n",
       " 'chưa có': 2313,\n",
       " 'nhiều tiết': 15638,\n",
       " 'tiết làm': 22988,\n",
       " 'làm bài': 12016,\n",
       " 'tập chữa': 25186,\n",
       " 'chữa bài': 2955,\n",
       " 'tập trên': 25349,\n",
       " 'tài liệu': 24250,\n",
       " 'liệu được': 11564,\n",
       " 'được bổ': 29785,\n",
       " 'bổ sung': 1488,\n",
       " 'sung nhiều': 19803,\n",
       " 'nhiều và': 15661,\n",
       " 'và đầy': 27081,\n",
       " 'đủ trên': 31258,\n",
       " 'trên moodle': 23551,\n",
       " 'viên phải': 26260,\n",
       " 'phải nên': 17948,\n",
       " 'nên cho': 16823,\n",
       " 'cho ví': 1932,\n",
       " 'dụ cụ': 6302,\n",
       " 'cụ thể': 4984,\n",
       " 'thể những': 22329,\n",
       " 'những phần': 16569,\n",
       " 'phần quan': 18100,\n",
       " 'quan trọng': 18320,\n",
       " 'trọng nên': 24055,\n",
       " 'nên nói': 16949,\n",
       " 'nói kỹ': 17144,\n",
       " 'kỹ có': 11332,\n",
       " 'thể lấy': 22308,\n",
       " 'lấy ví': 12736,\n",
       " 'dụ minh': 6323,\n",
       " 'minh họa': 13329,\n",
       " 'họa tránh': 9338,\n",
       " 'tránh việc': 23510,\n",
       " 'việc lập': 26531,\n",
       " 'lập đi': 12802,\n",
       " 'đi lập': 29055,\n",
       " 'lập lại': 12794,\n",
       " 'lại nhiều': 12655,\n",
       " 'nhiều lần': 15571,\n",
       " 'lần sẽ': 12769,\n",
       " 'sẽ tạo': 20104,\n",
       " 'tạo cảm': 25018,\n",
       " 'cảm giác': 4592,\n",
       " 'giác chán': 6997,\n",
       " 'chán cho': 2093,\n",
       " 'nên biên': 16808,\n",
       " 'biên soạn': 279,\n",
       " 'soạn một': 19749,\n",
       " 'một tài': 14336,\n",
       " 'liệu của': 11491,\n",
       " 'của chính': 4997,\n",
       " 'chính trường': 2193,\n",
       " 'trường ta': 23901,\n",
       " 'không giúp': 10605,\n",
       " 'đỡ sinh': 31161,\n",
       " 'viên trong': 26325,\n",
       " 'trong những': 23371,\n",
       " 'những vấn': 16596,\n",
       " 'đề xung': 30507,\n",
       " 'xung quanh': 28410,\n",
       " 'tập đa': 25382,\n",
       " 'đa dạng': 28970,\n",
       " 'dạng cụ': 5760,\n",
       " 'dung giảng': 5443,\n",
       " 'viên yêu': 26389,\n",
       " 'yêu câu': 28632,\n",
       " 'câu seminar': 3535,\n",
       " 'seminar hầu': 19480,\n",
       " 'như không': 15982,\n",
       " 'có tài': 3958,\n",
       " 'liệu tham': 11540,\n",
       " 'tham khảo': 20464,\n",
       " 'khảo và': 10873,\n",
       " 'và rất': 26937,\n",
       " 'rất ít': 19155,\n",
       " 'ít ứng': 28936,\n",
       " 'ứng dụng': 31373,\n",
       " 'dụng trong': 6454,\n",
       " 'trong thực': 23387,\n",
       " 'thực tế': 22771,\n",
       " 'tế đề': 25493,\n",
       " 'đề nghị': 30460,\n",
       " 'nghị có': 14918,\n",
       " 'có sự': 3923,\n",
       " 'sự thay': 20386,\n",
       " 'thay đổi': 20512,\n",
       " 'đổi trong': 30949,\n",
       " 'những năm': 16565,\n",
       " 'năm học': 17249,\n",
       " 'học tới': 9617,\n",
       " 'slide up': 19704,\n",
       " 'up đầy': 25968,\n",
       " 'đủ trước': 31259,\n",
       " 'trước mỗi': 23822,\n",
       " 'mỗi buổi': 14204,\n",
       " 'buổi học': 458,\n",
       " 'dạy quá': 5955,\n",
       " 'quá nhàm': 18476,\n",
       " 'nhàm chán': 15774,\n",
       " 'chán khô': 2108,\n",
       " 'khô khan': 10535,\n",
       " 'lượng kiến': 12517,\n",
       " 'kiến thức': 10991,\n",
       " 'thức quá': 22651,\n",
       " 'quá nhiều': 18472,\n",
       " 'nhiều trong': 15642,\n",
       " 'trong một': 23367,\n",
       " 'một học': 14271,\n",
       " 'thầy chép': 21789,\n",
       " 'chép bảng': 2143,\n",
       " 'bảng nhiều': 1092,\n",
       " 'thầy tận': 21986,\n",
       " 'dẫn cách': 6087,\n",
       " 'làm giải': 12045,\n",
       " 'giải quyết': 7121,\n",
       " 'quyết những': 18372,\n",
       " 'những thắc': 16583,\n",
       " 'thắc mắc': 22196,\n",
       " 'mắc của': 14041,\n",
       " 'chúc các': 2233,\n",
       " 'các thầy': 3267,\n",
       " 'thầy cô': 21806,\n",
       " 'cô anh': 4018,\n",
       " 'anh chị': 180,\n",
       " 'chị làm': 2768,\n",
       " 'việc vui': 26587,\n",
       " 'hay nhiệt': 8025,\n",
       " 'tình dễ': 24480,\n",
       " 'dễ hiểu': 6210,\n",
       " 'mặc dù': 14091,\n",
       " 'dù nhiệt': 5668,\n",
       " 'tình nhưng': 24541,\n",
       " 'nhưng khi': 16126,\n",
       " 'khi truyền': 10102,\n",
       " 'truyền đạt': 23471,\n",
       " 'đạt thì': 30118,\n",
       " 'thì lại': 21310,\n",
       " 'lại khó': 12636,\n",
       " 'khó hiểu': 10445,\n",
       " 'hiểu sử': 8299,\n",
       " 'sử dụng': 20275,\n",
       " 'dụng ngôn': 6424,\n",
       " 'ngôn từ': 15095,\n",
       " 'từ gây': 25800,\n",
       " 'gây khó': 7587,\n",
       " 'khó khăn': 10455,\n",
       " 'khăn cho': 10832,\n",
       " 'việc hiểu': 26513,\n",
       " 'hiểu bài': 8165,\n",
       " 'thầy dạy': 21824,\n",
       " 'dạy khá': 5876,\n",
       " 'khá hay': 10260,\n",
       " 'hay cung': 7935,\n",
       " 'cung cấp': 3079,\n",
       " 'cấp nhiều': 4634,\n",
       " 'nhiều thông': 15630,\n",
       " 'tin liên': 22795,\n",
       " 'liên quan': 11460,\n",
       " 'quan đến': 18332,\n",
       " 'đến môn': 30335,\n",
       " 'học đưa': 9659,\n",
       " 'đưa ra': 29724,\n",
       " 'ra nhiều': 18754,\n",
       " 'nhiều hướng': 15538,\n",
       " 'hướng giải': 9152,\n",
       " 'quyết khi': 18369,\n",
       " 'khi sinh': 10085,\n",
       " 'viên gặp': 26126,\n",
       " 'gặp vấn': 7820,\n",
       " 'đề khó': 30441,\n",
       " 'khăn với': 10847,\n",
       " 'với đồ': 27936,\n",
       " 'đồ án': 30872,\n",
       " 'hy vọng': 8574,\n",
       " 'vọng học': 27796,\n",
       " 'kỳ sau': 11286,\n",
       " 'sau có': 19416,\n",
       " 'thể học': 22294,\n",
       " 'học được': 9660,\n",
       " 'được với': 30006,\n",
       " 'với cô': 27835,\n",
       " 'nhiều khi': 15543,\n",
       " 'khi em': 10029,\n",
       " 'em lên': 6572,\n",
       " 'lớp học': 13033,\n",
       " 'học môn': 9483,\n",
       " 'môn đặc': 13881,\n",
       " 'đặc tả': 30238,\n",
       " 'tả hình': 25090,\n",
       " 'hình thức': 8817,\n",
       " 'thức giống': 22578,\n",
       " 'giống như': 7406,\n",
       " 'như lên': 15991,\n",
       " 'học mà': 9480,\n",
       " 'mà không': 13507,\n",
       " 'không biết': 10539,\n",
       " 'biết mình': 323,\n",
       " 'mình học': 13717,\n",
       " 'học cái': 9379,\n",
       " 'cái gì': 3432,\n",
       " 'trong khi': 23345,\n",
       " 'khi giảng': 10034,\n",
       " 'giảng nói': 7267,\n",
       " 'nói nhỏ': 17172,\n",
       " 'nhỏ quá': 16436,\n",
       " 'thực hành': 22751,\n",
       " 'hành khó': 8653,\n",
       " 'tận tâm': 25163,\n",
       " 'tâm nhiệt': 24342,\n",
       " 'tâm đến': 24394,\n",
       " 'đến sinh': 30364,\n",
       " 'viên giảng': 26118,\n",
       " 'bài dễ': 556,\n",
       " 'hiểu kiến': 8226,\n",
       " 'thức sâu': 22665,\n",
       " 'sâu rộng': 19950,\n",
       " 'rộng am': 19275,\n",
       " 'am hiểu': 169,\n",
       " 'hiểu cao': 8170,\n",
       " 'cô dạy': 4049,\n",
       " 'dạy với': 6038,\n",
       " 'với nhiệt': 27885,\n",
       " 'nhiệt huyết': 15707,\n",
       " 'huyết của': 8535,\n",
       " 'của mình': 5030,\n",
       " 'mình dù': 13709,\n",
       " 'dù như': 5669,\n",
       " 'như thế': 16041,\n",
       " 'thế nào': 22232,\n",
       " 'nào cô': 16635,\n",
       " 'cô vẫn': 4147,\n",
       " 'vẫn luôn': 27448,\n",
       " 'luôn mỉm': 11691,\n",
       " 'mỉm cười': 14170,\n",
       " 'cười và': 4461,\n",
       " 'và kiên': 26820,\n",
       " 'kiên trì': 10941,\n",
       " 'trì giảng': 23593,\n",
       " 'bài cho': 531,\n",
       " 'cho chúng': 1782,\n",
       " 'chúng em': 2236,\n",
       " 'em đến': 6682,\n",
       " 'đến khi': 30316,\n",
       " 'khi chúng': 10004,\n",
       " 'em hiểu': 6552,\n",
       " 'cô lên': 4084,\n",
       " 'lớp đúng': 13151,\n",
       " 'giờ giảng': 7437,\n",
       " 'bài rất': 634,\n",
       " 'rất dễ': 19015,\n",
       " 'hiểu cho': 8172,\n",
       " 'những thông': 16581,\n",
       " 'tin cần': 22784,\n",
       " 'cần thiết': 4781,\n",
       " 'thiết như': 20706,\n",
       " 'như doubledot': 15962,\n",
       " 'doubledot thời': 5397,\n",
       " 'gian dealine': 6835,\n",
       " 'dealine cách': 5249,\n",
       " 'cách nộp': 3359,\n",
       " 'nộp bài': 17515,\n",
       " 'bài thường': 651,\n",
       " 'thường không': 21608,\n",
       " 'không dặn': 10593,\n",
       " 'dặn lớp': 6182,\n",
       " 'lớp thực': 13109,\n",
       " 'hành thứ': 8727,\n",
       " 'thứ hai': 22501,\n",
       " 'dễ chịu': 6196,\n",
       " 'viên chưa': 26057,\n",
       " 'chưa đi': 2400,\n",
       " 'đi sâu': 29073,\n",
       " 'sâu vào': 19959,\n",
       " 'vào bản': 27134,\n",
       " 'bản chất': 1029,\n",
       " 'chất của': 2487,\n",
       " 'của vấn': 5066,\n",
       " 'đề em': 30426,\n",
       " 'em chỉ': 6524,\n",
       " 'chỉ học': 2660,\n",
       " 'học thôi': 9578,\n",
       " 'thôi mà': 21480,\n",
       " 'biết bản': 292,\n",
       " 'của nó': 5040,\n",
       " 'nó là': 17082,\n",
       " 'là gì': 11840,\n",
       " 'gì nó': 7660,\n",
       " 'nó có': 17074,\n",
       " 'có ứng': 4017,\n",
       " 'dụng gì': 6395,\n",
       " 'gì sau': 7665,\n",
       " 'sau này': 19443,\n",
       " 'này cho': 16689,\n",
       " 'cho chuyên': 1779,\n",
       " 'chuyên nghành': 1999,\n",
       " 'nghành của': 14749,\n",
       " 'của em': 5011,\n",
       " 'đặc biệt': 30235,\n",
       " 'biệt hơn': 405,\n",
       " 'hơn là': 9023,\n",
       " 'là thầy': 11950,\n",
       " 'thầy đã': 22135,\n",
       " 'đã bỏ': 29421,\n",
       " 'bỏ rất': 1453,\n",
       " 'rất nhiều': 19072,\n",
       " 'công sức': 4232,\n",
       " 'sức trong': 20266,\n",
       " 'việc ra': 26550,\n",
       " 'ra bài': 18703,\n",
       " 'tập và': 25368,\n",
       " 'và chấm': 26710,\n",
       " 'chấm điểm': 2477,\n",
       " 'điểm một': 29200,\n",
       " 'một cách': 14248,\n",
       " 'cách rõ': 3364,\n",
       " 'rõ ràng': 18944,\n",
       " 'ràng và': 18877,\n",
       " 'và minh': 26856,\n",
       " 'minh bạch': 13326,\n",
       " 'cô rất': 4111,\n",
       " 'rất nhiệt': 19073,\n",
       " 'và tận': 27019,\n",
       " 'tận dụng': 25156,\n",
       " 'dụng tốt': 6462,\n",
       " 'tốt thời': 25614,\n",
       " 'viên tận': 26352,\n",
       " 'huyết trong': 8561,\n",
       " 'trong giảng': 23337,\n",
       " 'tình gần': 24492,\n",
       " 'tâm giảng': 24314,\n",
       " 'giảng dễ': 7218,\n",
       " 'hiểu dễ': 8197,\n",
       " 'dễ tiếp': 6243,\n",
       " 'tạo ra': 25049,\n",
       " 'ra sự': 18772,\n",
       " 'sự cạnh': 20323,\n",
       " 'cạnh tranh': 4514,\n",
       " 'tranh trong': 23285,\n",
       " 'trong mỗi': 23366,\n",
       " 'buổi thực': 493,\n",
       " 'và có': 26728,\n",
       " 'có code': 3743,\n",
       " 'code tham': 3008,\n",
       " 'nâng cấp': 16800,\n",
       " 'cấp hệ': 4624,\n",
       " 'hệ thống': 9305,\n",
       " 'thống wifi': 22448,\n",
       " 'wifi vì': 28068,\n",
       " 'vì khi': 27268,\n",
       " 'khi vào': 10114,\n",
       " 'vào phòng': 27187,\n",
       " 'phòng thực': 17801,\n",
       " 'hành sinh': 8713,\n",
       " 'viên không': 26161,\n",
       " 'không thể': 10761,\n",
       " 'thể truy': 22365,\n",
       " 'truy cập': 23456,\n",
       " 'cập internet': 4899,\n",
       " 'internet buộc': 9935,\n",
       " 'buộc phải': 515,\n",
       " 'phải xin': 17993,\n",
       " 'xin phép': 28366,\n",
       " 'phép ra': 17740,\n",
       " 'ra ngoài': 18753,\n",
       " 'ngoài để': 14996,\n",
       " 'để làm': 30654,\n",
       " 'liệu không': 11510,\n",
       " 'không chi': 10551,\n",
       " 'tiết lắm': 22991,\n",
       " 'vui tính': 26667,\n",
       " 'tính dễ': 24696,\n",
       " 'dễ gần': 6206,\n",
       " 'gần với': 7768,\n",
       " 'rất hay': 19021,\n",
       " 'hay và': 8093,\n",
       " 'và nhiệt': 26885,\n",
       " 'dạy không': 5880,\n",
       " 'không đúng': 10811,\n",
       " 'giờ không': 7451,\n",
       " 'không hướng': 10625,\n",
       " 'dẫn sinh': 6133,\n",
       " 'viên thực': 26317,\n",
       " 'đỡ học': 31149,\n",
       " 'học sinh': 9552,\n",
       " 'sinh quá': 19572,\n",
       " 'quá ít': 18530,\n",
       " 'dạy buồn': 5789,\n",
       " 'buồn ngủ': 436,\n",
       " 'ngủ quá': 15267,\n",
       " 'nên kinh': 16907,\n",
       " 'kinh mong': 10925,\n",
       " 'mong nội': 13366,\n",
       " 'được giảm': 29838,\n",
       " 'giảm tải': 7163,\n",
       " 'tải cho': 25097,\n",
       " 'cho phù': 1877,\n",
       " 'phù hợp': 17830,\n",
       " 'hợp hơn': 9851,\n",
       " 'hơn với': 9089,\n",
       " 'với đặc': 27934,\n",
       " 'đặc thù': 30236,\n",
       " 'thù của': 21503,\n",
       " 'của một': 5034,\n",
       " 'một trường': 14334,\n",
       " 'trường công': 23861,\n",
       " 'cô lại': 4085,\n",
       " 'lại kiểu': 12640,\n",
       " 'kiểu khó': 11009,\n",
       " 'khó tính': 10497,\n",
       " 'tính nữa': 24749,\n",
       " 'tạo hứng': 25029,\n",
       " 'hứng thú': 9912,\n",
       " 'thú cho': 21505,\n",
       " 'cô giảng': 4059,\n",
       " 'giảng hay': 7226,\n",
       " 'hay cuốn': 7936,\n",
       " 'cuốn hút': 3113,\n",
       " 'hút và': 8886,\n",
       " 'và truyền': 26991,\n",
       " 'đạt dễ': 30076,\n",
       " 'có hứng': 3805,\n",
       " 'thú học': 21507,\n",
       " 'ôn tập': 28956,\n",
       " 'tập đúng': 25387,\n",
       " 'đúng theo': 29678,\n",
       " 'theo thầy': 20570,\n",
       " 'thầy nhưng': 21903,\n",
       " 'biết cuối': 299,\n",
       " 'cuối kỳ': 3097,\n",
       " 'kỳ được': 11319,\n",
       " 'được mấy': 29894,\n",
       " 'mấy điểm': 14007,\n",
       " 'viên hướng': 26146,\n",
       " 'dẫn cụ': 6093,\n",
       " 'thể chi': 22245,\n",
       " 'trình quá': 23685,\n",
       " 'ít và': 28926,\n",
       " 'và nội': 26910,\n",
       " 'dung không': 5455,\n",
       " 'không khác': 10637,\n",
       " 'khác nhau': 10349,\n",
       " 'nhau là': 15407,\n",
       " 'là mấy': 11889,\n",
       " 'giáo viên': 7046,\n",
       " 'viên nghỉ': 26219,\n",
       " 'nghỉ dạy': 14859,\n",
       " 'dạy liên': 5891,\n",
       " 'liên tục': 11464,\n",
       " 'tục cuối': 25723,\n",
       " 'cuối học': 3094,\n",
       " 'kỳ lại': 11263,\n",
       " 'lại tăng': 12690,\n",
       " 'tăng học': 24877,\n",
       " 'học bù': 9349,\n",
       " 'bù những': 897,\n",
       " 'những tiết': 16586,\n",
       " 'bù đó': 910,\n",
       " 'đó đã': 29608,\n",
       " 'đã ảnh': 29504,\n",
       " 'ảnh hưởng': 31332,\n",
       " 'hưởng đến': 9186,\n",
       " 'đến những': 30350,\n",
       " 'những đồ': 16606,\n",
       " 'án và': 28767,\n",
       " 'và trễ': 26999,\n",
       " 'trễ deadline': 23997,\n",
       " 'viên lúc': 26178,\n",
       " 'lúc dạy': 12326,\n",
       " 'dạy lúc': 5898,\n",
       " 'lúc không': 12338,\n",
       " 'không không': 10641,\n",
       " 'không dạy': 10591,\n",
       " 'dạy cũng': 5825,\n",
       " 'cũng không': 4375,\n",
       " 'không thông': 10757,\n",
       " 'thông báo': 21489,\n",
       " 'báo sinh': 809,\n",
       " 'viên tốn': 26355,\n",
       " 'tốn thời': 25523,\n",
       " 'gian công': 6831,\n",
       " 'sức tiền': 20265,\n",
       " 'tiền bạc': 23050,\n",
       " 'bạc rồi': 943,\n",
       " 'rồi ngồi': 19243,\n",
       " 'ngồi đợi': 15232,\n",
       " 'đợi và': 31183,\n",
       " 'đi về': 29094,\n",
       " 'cần có': 4693,\n",
       " 'có một': 3857,\n",
       " 'một phòng': 14310,\n",
       " 'phòng máy': 17787,\n",
       " 'máy tốt': 13669,\n",
       " 'tốt hơn': 25568,\n",
       " 'hơn hiện': 9009,\n",
       " 'hiện đại': 8406,\n",
       " 'đại hơn': 30048,\n",
       " 'thầy nên': 21911,\n",
       " 'cho làm': 1838,\n",
       " 'tập tương': 25356,\n",
       " 'tương tự': 24927,\n",
       " 'tự nhau': 25923,\n",
       " 'nhau nhiều': 15410,\n",
       " 'nhiều hơn': 15537,\n",
       " 'hơn một': 9032,\n",
       " 'một vài': 14341,\n",
       " 'vài bài': 27097,\n",
       " 'bài để': 698,\n",
       " 'để tránh': 30721,\n",
       " 'tránh tình': 23509,\n",
       " 'tình trạng': 24585,\n",
       " 'trạng quên': 23945,\n",
       " 'quên hoặc': 18572,\n",
       " 'hoặc các': 8469,\n",
       " 'các dạng': 3198,\n",
       " 'dạng tựa': 5778,\n",
       " 'tựa nhau': 25952,\n",
       " 'nhau nhưng': 15411,\n",
       " 'nhưng hơi': 16122,\n",
       " 'hơi khác': 8913,\n",
       " 'khác cách': 10326,\n",
       " 'không ngờ': 10682,\n",
       " 'ngờ môn': 15238,\n",
       " 'này lại': 16736,\n",
       " 'lại chán': 12596,\n",
       " 'chán đến': 2130,\n",
       " 'đến như': 30348,\n",
       " 'như vậy': 16063,\n",
       " 'vậy không': 27501,\n",
       " 'không học': 10629,\n",
       " 'được gì': 29843,\n",
       " 'gì từ': 7678,\n",
       " 'từ môn': 25810,\n",
       " 'này thầy': 16766,\n",
       " 'dạy chán': 5802,\n",
       " 'chán kinh': 2111,\n",
       " 'kinh khủng': 10924,\n",
       " 'khủng hay': 10917,\n",
       " 'hay đi': 8103,\n",
       " 'đi trễ': 29087,\n",
       " 'trễ từ': 24021,\n",
       " 'từ 30': 25776,\n",
       " '30 45': 82,\n",
       " '45 phút': 101,\n",
       " 'phút không': 17844,\n",
       " 'không nhiệt': 10685,\n",
       " 'viên đánh': 26399,\n",
       " 'đánh giá': 29334,\n",
       " 'giá sai': 6982,\n",
       " 'sai điểm': 19357,\n",
       " 'điểm và': 29248,\n",
       " 'và năng': 26905,\n",
       " 'năng lực': 17305,\n",
       " 'lực của': 13219,\n",
       " 'của học': 5019,\n",
       " 'không đáp': 10809,\n",
       " 'đáp ứng': 29388,\n",
       " 'ứng được': 31381,\n",
       " 'được đề': 30033,\n",
       " 'đề cương': 30415,\n",
       " 'cương môn': 4448,\n",
       " 'học đề': 9666,\n",
       " 'đề ra': 30475,\n",
       " 'nên hướng': 16890,\n",
       " 'dẫn thực': 6141,\n",
       " 'hành nhiều': 8686,\n",
       " 'viên thân': 26299,\n",
       " 'thân thiện': 21140,\n",
       " 'thiện quan': 20807,\n",
       " 'môn lập': 13815,\n",
       " 'lập trình': 12799,\n",
       " 'trình hướng': 23643,\n",
       " 'hướng đối': 9178,\n",
       " 'đối tượng': 30859,\n",
       " 'tượng nên': 24964,\n",
       " 'nên cập': 16854,\n",
       " 'cập nhật': 4907,\n",
       " 'nhật thêm': 16352,\n",
       " 'thêm những': 21196,\n",
       " 'những nội': 16566,\n",
       " 'dung mới': 5466,\n",
       " 'mới dễ': 14386,\n",
       " 'hiểu và': 8341,\n",
       " 'và giảng': 26773,\n",
       " 'giảng giải': 7221,\n",
       " 'giải cụ': 7100,\n",
       " 'thể hơn': 22291,\n",
       " 'viên nhiệt': 26228,\n",
       " 'tình tâm': 24592,\n",
       " 'tâm huyết': 24319,\n",
       " 'huyết khả': 8548,\n",
       " 'khả năng': 10850,\n",
       " 'năng truyền': 17335,\n",
       " 'đạt tốt': 30131,\n",
       " 'rất tốt': 19141,\n",
       " 'tốt và': 25628,\n",
       " 'cô nói': 4102,\n",
       " 'nói hơi': 17136,\n",
       " 'hơi nhỏ': 8937,\n",
       " 'nhỏ nếu': 16435,\n",
       " 'nếu lớp': 17440,\n",
       " 'lớp ồn': 13164,\n",
       " 'ồn sẽ': 31359,\n",
       " 'sẽ khó': 20065,\n",
       " 'khó nghe': 10468,\n",
       " 'tập cô': 25195,\n",
       " 'cô đưa': 4209,\n",
       " 'và khó': 26814,\n",
       " 'khó tìm': 10496,\n",
       " 'tìm hiểu': 24416,\n",
       " 'hiểu với': 8350,\n",
       " 'với kiến': 27858,\n",
       " 'kiến thực': 10992,\n",
       " 'thực hiện': 22749,\n",
       " 'hiện tại': 8403,\n",
       " 'tại của': 24979,\n",
       " 'viên thì': 26301,\n",
       " 'thì khó': 21299,\n",
       " 'khó có': 10431,\n",
       " 'thể tìm': 22372,\n",
       " 'và làm': 26837,\n",
       " 'làm tốt': 12137,\n",
       " 'tốt bài': 25528,\n",
       " 'cô ra': 4110,\n",
       " 'và hoạt': 26793,\n",
       " 'động nhóm': 31080,\n",
       " 'nhóm còn': 15856,\n",
       " 'còn ít': 3689,\n",
       " 'tình phương': 24551,\n",
       " 'phương pháp': 17864,\n",
       " 'pháp giảng': 17662,\n",
       " 'dạy hay': 5852,\n",
       " 'hay sinh': 8048,\n",
       " 'viên nắm': 26250,\n",
       " 'nắm bắt': 17380,\n",
       " 'bắt kiến': 1217,\n",
       " 'thức ngay': 22626,\n",
       " 'cô hướng': 4068,\n",
       " 'hành khá': 8651,\n",
       " 'khá đầy': 10318,\n",
       " 'được học': 29855,\n",
       " 'học nhiều': 9502,\n",
       " 'nhiều kinh': 15549,\n",
       " 'kinh nghiệm': 10926,\n",
       " 'nghiệm từ': 14721,\n",
       " 'từ thầy': 25828,\n",
       " 'thầy wzjwz163': 22026,\n",
       " 'thức của': 22566,\n",
       " 'tốt bảo': 25530,\n",
       " 'bảo đảm': 1162,\n",
       " 'đảm giờ': 30150,\n",
       " 'giờ lên': 7457,\n",
       " 'tại em': 24981,\n",
       " 'em chưa': 6522,\n",
       " 'chưa thấy': 2379,\n",
       " 'thấy tác': 21741,\n",
       " 'tác dụng': 24271,\n",
       " 'gì nhiều': 7656,\n",
       " 'khi học': 10044,\n",
       " 'cải thiện': 4586,\n",
       " 'thiện lại': 20798,\n",
       " 'lại cơ': 12613,\n",
       " 'cơ sở': 4434,\n",
       " 'sở vật': 20239,\n",
       " 'vật chất': 27482,\n",
       " 'chất máy': 2497,\n",
       " 'máy chiếu': 13623,\n",
       " 'chiếu trong': 1748,\n",
       " 'trong phòng': 23373,\n",
       " 'phòng học': 17778,\n",
       " 'không phù': 10708,\n",
       " 'hợp với': 9882,\n",
       " 'với cách': 27833,\n",
       " 'cách học': 3327,\n",
       " 'học của': 9395,\n",
       " 'giải thích': 7131,\n",
       " 'thích nội': 21441,\n",
       " 'mới rõ': 14433,\n",
       " 'quá đông': 18538,\n",
       " 'môn căn': 13779,\n",
       " 'căn bản': 4310,\n",
       " 'bản mà': 1045,\n",
       " 'mà thầy': 13547,\n",
       " 'thầy không': 21866,\n",
       " 'dạy cho': 5800,\n",
       " 'viên kỹ': 26169,\n",
       " 'kỹ gây': 11338,\n",
       " 'gây không': 7588,\n",
       " 'không hiểu': 10618,\n",
       " 'hiểu mất': 8247,\n",
       " 'mất căn': 13963,\n",
       " 'chưa cho': 2301,\n",
       " 'cho bài': 1772,\n",
       " 'tập về': 25374,\n",
       " 'về nhà': 27700,\n",
       " 'nhà để': 15771,\n",
       " 'viên làm': 26176,\n",
       " 'làm nên': 12095,\n",
       " 'bài mỗi': 601,\n",
       " 'mỗi chương': 14206,\n",
       " 'chương không': 2429,\n",
       " 'không cần': 10576,\n",
       " 'cần chữa': 4688,\n",
       " 'chữa chỉ': 2956,\n",
       " 'chỉ cần': 2642,\n",
       " 'cần đáp': 4823,\n",
       " 'đáp án': 29384,\n",
       " 'mà hiện': 13496,\n",
       " 'tại trường': 25000,\n",
       " 'ta chưa': 20431,\n",
       " 'có đây': 3998,\n",
       " 'đây là': 29410,\n",
       " 'là thiệt': 11943,\n",
       " 'thiệt thòi': 20831,\n",
       " 'thòi lớn': 21471,\n",
       " 'lớn đối': 12982,\n",
       " 'đối với': 30861,\n",
       " 'với tụi': 27924,\n",
       " 'tụi em': 25755,\n",
       " 'tôi cảm': 24823,\n",
       " 'cảm thấy': 4596,\n",
       " 'thấy giảng': 21683,\n",
       " 'viên dạy': 26105,\n",
       " 'biết thầy': 349,\n",
       " 'thầy nào': 21909,\n",
       " 'nào dạy': 16639,\n",
       " 'dạy chính': 5803,\n",
       " 'chính thức': 2192,\n",
       " 'thức mà': 22618,\n",
       " 'mà học': 13502,\n",
       " 'học thường': 9581,\n",
       " 'thường nghỉ': 21615,\n",
       " 'nghỉ không': 14872,\n",
       " 'báo trước': 817,\n",
       " 'trước để': 23849,\n",
       " 'viên đứng': 26427,\n",
       " 'đứng chờ': 31284,\n",
       " 'chờ sắp': 2866,\n",
       " 'sắp hết': 20012,\n",
       " 'hết tiết': 9268,\n",
       " 'tiết rồi': 23015,\n",
       " 'rồi tự': 19263,\n",
       " 'tự về': 25943,\n",
       " 'về nhiều': 27699,\n",
       " 'sự tương': 20407,\n",
       " 'tương tác': 24926,\n",
       " 'tác giữa': 24273,\n",
       " ...}"
      ]
     },
     "execution_count": 47,
     "metadata": {},
     "output_type": "execute_result"
    }
   ],
   "source": [
    "encoder.vocabulary_"
   ]
  },
  {
   "cell_type": "code",
   "execution_count": 48,
   "metadata": {
    "id": "Jf9BV4nls_JN"
   },
   "outputs": [],
   "source": [
    "X_train_encoded = encoder.transform(X_train[0])\n",
    "X_dev_encoded = encoder.transform(X_dev[0])\n",
    "X_test_encoded = encoder.transform(X_test[0])"
   ]
  },
  {
   "cell_type": "markdown",
   "metadata": {
    "id": "XEvnAp5xtLYo"
   },
   "source": [
    "3. Huấn luyện mô hình và dự đoán"
   ]
  },
  {
   "cell_type": "markdown",
   "metadata": {
    "id": "t24ga3EltaYf"
   },
   "source": [
    "**Mô hình Naive Bayes**"
   ]
  },
  {
   "cell_type": "code",
   "execution_count": 49,
   "metadata": {
    "id": "zyS_tt9otBAL"
   },
   "outputs": [],
   "source": [
    "from sklearn.naive_bayes import MultinomialNB\n",
    "\n",
    "model_NB = MultinomialNB()\n",
    "model_NB.fit(X_train_encoded, y_train)\n",
    "\n",
    "# Dự đoán nhãn và lưu vào biến y_pred_NB\n",
    "y_pred_NB = model_NB.predict(X_test_encoded)"
   ]
  },
  {
   "cell_type": "markdown",
   "metadata": {
    "id": "1kI1Ck25tgcl"
   },
   "source": [
    "**Mô hình Logistic Regression**"
   ]
  },
  {
   "cell_type": "code",
   "execution_count": 50,
   "metadata": {
    "id": "bck_1ReotiNl"
   },
   "outputs": [],
   "source": [
    "from sklearn.linear_model import LogisticRegression\n",
    "\n",
    "model_Reg = LogisticRegression()\n",
    "model_Reg.fit(X_train_encoded, y_train)\n",
    "\n",
    "# Dự đoán nhãn và lưu vào biến y_pred_Reg\n",
    "y_pred_Reg = model_Reg.predict(X_test_encoded)"
   ]
  },
  {
   "cell_type": "markdown",
   "metadata": {
    "id": "w3qgimF0tkaO"
   },
   "source": [
    "**Mô hình SVM**"
   ]
  },
  {
   "cell_type": "code",
   "execution_count": 51,
   "metadata": {
    "id": "LQSszK1vtmxv"
   },
   "outputs": [],
   "source": [
    "from sklearn.svm import SVC\n",
    "\n",
    "model_SVM=SVC(kernel = 'linear')\n",
    "model_SVM.fit(X_train_encoded,y_train)\n",
    "\n",
    "# Dự đoán nhãn và lưu vào biến y_pred_SVM\n",
    "y_pred_SVM = model_SVM.predict(X_test_encoded)"
   ]
  },
  {
   "cell_type": "markdown",
   "metadata": {
    "id": "4Oerh8h5trfu"
   },
   "source": [
    "**4. Đánh giá mô hình**"
   ]
  },
  {
   "cell_type": "markdown",
   "metadata": {
    "id": "sgJEYDX7t1hh"
   },
   "source": [
    "**Mô hình Naive Bayes**"
   ]
  },
  {
   "cell_type": "code",
   "execution_count": 52,
   "metadata": {
    "colab": {
     "base_uri": "https://localhost:8080/"
    },
    "id": "6AM_ZoJut4A1",
    "outputId": "d32f5890-de3d-48eb-dfca-27bed72cb154"
   },
   "outputs": [
    {
     "name": "stdout",
     "output_type": "stream",
     "text": [
      "Naive Bayes\n",
      "Accuracy :  86.26026531901452\n",
      "macro F1-score : 61.264058918064244\n"
     ]
    }
   ],
   "source": [
    "from sklearn.metrics import accuracy_score, f1_score\n",
    "\n",
    "print('Naive Bayes')\n",
    "print('Accuracy : ',accuracy_score(y_test, y_pred_NB)*100)\n",
    "print('macro F1-score :',f1_score(y_test, y_pred_NB, average='macro')*100)"
   ]
  },
  {
   "cell_type": "markdown",
   "metadata": {
    "id": "h9LE6HATt21D"
   },
   "source": [
    "**Mô hình Logistic Regression**"
   ]
  },
  {
   "cell_type": "code",
   "execution_count": 53,
   "metadata": {
    "colab": {
     "base_uri": "https://localhost:8080/"
    },
    "id": "lNEicT2_uA8W",
    "outputId": "aa673b3c-dec5-4c0e-8123-ab4f41540976"
   },
   "outputs": [
    {
     "name": "stdout",
     "output_type": "stream",
     "text": [
      "Logistic Regresstion\n",
      "Accuracy :  87.08149084017688\n",
      "macro F1-score : 65.45099659996735\n"
     ]
    }
   ],
   "source": [
    "print('Logistic Regresstion')\n",
    "print('Accuracy : ',accuracy_score(y_test, y_pred_Reg)*100)\n",
    "print('macro F1-score :',f1_score(y_test, y_pred_Reg, average='macro')*100)"
   ]
  },
  {
   "cell_type": "markdown",
   "metadata": {
    "id": "I-llk1wAuDyV"
   },
   "source": [
    "**Mô hình SVM**"
   ]
  },
  {
   "cell_type": "code",
   "execution_count": 55,
   "metadata": {
    "colab": {
     "base_uri": "https://localhost:8080/"
    },
    "id": "FL_bHDq7uGK9",
    "outputId": "6d8d71f2-7878-43e4-f193-1c1a5122d3c9"
   },
   "outputs": [
    {
     "name": "stdout",
     "output_type": "stream",
     "text": [
      "SVM\n",
      "Accuracy :  85.75489576753\n",
      "macro F1-score : 67.45470242950846\n"
     ]
    }
   ],
   "source": [
    "print('SVM')\n",
    "print('Accuracy : ',accuracy_score(y_test, y_pred_SVM)*100)\n",
    "print('macro F1-score :',f1_score(y_test, y_pred_SVM, average='macro')*100)"
   ]
  },
  {
   "cell_type": "markdown",
   "metadata": {
    "id": "d9QjYDQBuQdU"
   },
   "source": [
    "**Trực quan hóa ma trận nhầm lẫn**"
   ]
  },
  {
   "cell_type": "code",
   "execution_count": 56,
   "metadata": {
    "id": "oUclin9nuRh9"
   },
   "outputs": [],
   "source": [
    "from sklearn.metrics import confusion_matrix\n",
    "\n",
    "cf = confusion_matrix(y_test, y_pred_NB)"
   ]
  },
  {
   "cell_type": "code",
   "execution_count": 57,
   "metadata": {
    "colab": {
     "base_uri": "https://localhost:8080/",
     "height": 273
    },
    "id": "VMJprYViuS0n",
    "outputId": "6bea1414-3c8e-4519-c75e-7e0f6ef72fb1"
   },
   "outputs": [
    {
     "data": {
      "image/png": "[encoded data removed]",
      "text/plain": [
       "<Figure size 432x288 with 2 Axes>"
      ]
     },
     "metadata": {},
     "output_type": "display_data"
    }
   ],
   "source": [
    "import seaborn as sn\n",
    "import pandas as pd\n",
    "import numpy as np\n",
    "import matplotlib.pyplot as plt\n",
    "\n",
    "df_cm = pd.DataFrame(cf, range(3), range(3))\n",
    "sn.set(font_scale=1.4)\n",
    "sn.heatmap(df_cm, annot=True, annot_kws={\"size\": 16}, fmt='d')\n",
    "plt.show()"
   ]
  },
  {
   "cell_type": "markdown",
   "metadata": {
    "id": "Nfcen9KMua3F"
   },
   "source": [
    "**Bài 2:** Thay đổi cách mã hoá từ CountVectorizer thành TfIdfVectorizer ở Mục 2 (giữ nguyên n-gram). So sánh hiệu năng của mô hình Naive Bayes đối với 2 cách mã hoá (sử dụng độ đo macro F1-score và ma trận nhầm lẫn để so sánh)."
   ]
  },
  {
   "cell_type": "markdown",
   "metadata": {
    "id": "6wRwCE76une7"
   },
   "source": [
    "**Mã hoá dữ liệu**"
   ]
  },
  {
   "cell_type": "code",
   "execution_count": 58,
   "metadata": {
    "colab": {
     "base_uri": "https://localhost:8080/"
    },
    "id": "7jKRGoowum06",
    "outputId": "fb2af4b6-7160-4805-f187-9d21927b8ca1"
   },
   "outputs": [
    {
     "data": {
      "text/plain": [
       "TfidfVectorizer(ngram_range=(2, 2))"
      ]
     },
     "execution_count": 58,
     "metadata": {},
     "output_type": "execute_result"
    }
   ],
   "source": [
    "from sklearn.feature_extraction.text import TfidfVectorizer\n",
    "\n",
    "encoder_2 = TfidfVectorizer(ngram_range=(2, 2))\n",
    "encoder_2.fit(X_train[0])"
   ]
  },
  {
   "cell_type": "code",
   "execution_count": 59,
   "metadata": {
    "colab": {
     "base_uri": "https://localhost:8080/"
    },
    "id": "p3x7JDZguwiY",
    "outputId": "bc864a3a-5313-4c41-ff6b-0459c11c48ac"
   },
   "outputs": [
    {
     "data": {
      "text/plain": [
       "{'slide giáo': 19651,\n",
       " 'giáo trình': 7042,\n",
       " 'trình đầy': 23733,\n",
       " 'đầy đủ': 30215,\n",
       " 'nhiệt tình': 15712,\n",
       " 'tình giảng': 24486,\n",
       " 'giảng dạy': 7216,\n",
       " 'dạy gần': 5850,\n",
       " 'gần gũi': 7752,\n",
       " 'gũi với': 7734,\n",
       " 'với sinh': 27898,\n",
       " 'sinh viên': 19599,\n",
       " 'đi học': 29041,\n",
       " 'học đầy': 9663,\n",
       " 'đủ full': 31210,\n",
       " 'full điểm': 6736,\n",
       " 'điểm chuyên': 29158,\n",
       " 'chuyên cần': 1996,\n",
       " 'chưa áp': 2398,\n",
       " 'áp dụng': 28786,\n",
       " 'dụng công': 6383,\n",
       " 'công nghệ': 4229,\n",
       " 'nghệ thông': 14845,\n",
       " 'thông tin': 21499,\n",
       " 'tin và': 22823,\n",
       " 'và các': 26723,\n",
       " 'các thiết': 3263,\n",
       " 'thiết bị': 20690,\n",
       " 'bị hỗ': 1334,\n",
       " 'hỗ trợ': 9803,\n",
       " 'trợ cho': 24094,\n",
       " 'cho việc': 1928,\n",
       " 'việc giảng': 26506,\n",
       " 'thầy giảng': 21839,\n",
       " 'giảng bài': 7185,\n",
       " 'bài hay': 567,\n",
       " 'hay có': 7940,\n",
       " 'có nhiều': 3872,\n",
       " 'nhiều bài': 15482,\n",
       " 'bài tập': 670,\n",
       " 'tập ví': 25371,\n",
       " 'ví dụ': 27343,\n",
       " 'dụ ngay': 6325,\n",
       " 'ngay trên': 14592,\n",
       " 'trên lớp': 23548,\n",
       " 'giảng viên': 7312,\n",
       " 'viên đảm': 26412,\n",
       " 'đảm bảo': 30149,\n",
       " 'bảo thời': 1145,\n",
       " 'thời gian': 22458,\n",
       " 'gian lên': 6862,\n",
       " 'lên lớp': 12225,\n",
       " 'lớp tích': 13123,\n",
       " 'tích cực': 24644,\n",
       " 'cực trả': 5170,\n",
       " 'trả lời': 23953,\n",
       " 'lời câu': 13171,\n",
       " 'câu hỏi': 3521,\n",
       " 'hỏi của': 9692,\n",
       " 'của sinh': 5049,\n",
       " 'viên thường': 26306,\n",
       " 'thường xuyên': 21635,\n",
       " 'xuyên đặt': 28478,\n",
       " 'đặt câu': 30246,\n",
       " 'hỏi cho': 9686,\n",
       " 'cho sinh': 1891,\n",
       " 'em sẽ': 6618,\n",
       " 'sẽ nợ': 20084,\n",
       " 'nợ môn': 17534,\n",
       " 'môn này': 13829,\n",
       " 'này nhưng': 16745,\n",
       " 'nhưng em': 16115,\n",
       " 'sẽ học': 20060,\n",
       " 'học lại': 9469,\n",
       " 'lại các': 12605,\n",
       " 'các học': 3214,\n",
       " 'học kỳ': 9455,\n",
       " 'kỳ kế': 11254,\n",
       " 'kế tiếp': 11150,\n",
       " 'thời lượng': 22466,\n",
       " 'lượng học': 12513,\n",
       " 'học quá': 9537,\n",
       " 'quá dài': 18421,\n",
       " 'dài không': 5544,\n",
       " 'không đảm': 10816,\n",
       " 'bảo tiếp': 1148,\n",
       " 'tiếp thu': 22929,\n",
       " 'thu hiệu': 20882,\n",
       " 'hiệu quả': 8412,\n",
       " 'nội dung': 17513,\n",
       " 'dung môn': 5465,\n",
       " 'môn học': 13799,\n",
       " 'học có': 9381,\n",
       " 'có phần': 3900,\n",
       " 'phần thiếu': 18111,\n",
       " 'thiếu trọng': 20763,\n",
       " 'trọng tâm': 24064,\n",
       " 'tâm hầu': 24324,\n",
       " 'hầu như': 9214,\n",
       " 'như là': 15989,\n",
       " 'là chung': 11790,\n",
       " 'chung chung': 1963,\n",
       " 'chung khái': 1973,\n",
       " 'khái quát': 10387,\n",
       " 'quát khiến': 18553,\n",
       " 'khiến sinh': 10147,\n",
       " 'viên rất': 26273,\n",
       " 'rất khó': 19039,\n",
       " 'khó nắm': 10478,\n",
       " 'nắm được': 17393,\n",
       " 'được nội': 29925,\n",
       " 'cần nói': 4749,\n",
       " 'nói rõ': 17178,\n",
       " 'rõ hơn': 18918,\n",
       " 'hơn bằng': 8973,\n",
       " 'bằng cách': 1243,\n",
       " 'cách trình': 3390,\n",
       " 'trình bày': 23602,\n",
       " 'bày lên': 738,\n",
       " 'lên bảng': 12201,\n",
       " 'bảng thay': 1100,\n",
       " 'thay vì': 20511,\n",
       " 'vì nhìn': 27294,\n",
       " 'nhìn vào': 15834,\n",
       " 'vào slide': 27192,\n",
       " 'thầy rất': 21931,\n",
       " 'rất tận': 19135,\n",
       " 'tận tình': 25164,\n",
       " 'tình và': 24607,\n",
       " 'và đi': 27067,\n",
       " 'đi dạy': 29034,\n",
       " 'dạy rất': 5957,\n",
       " 'rất đúng': 19159,\n",
       " 'đúng giờ': 29655,\n",
       " 'dễ bị': 6193,\n",
       " 'bị áp': 1413,\n",
       " 'áp lực': 28787,\n",
       " 'đang dạy': 28981,\n",
       " 'dạy thầy': 5991,\n",
       " 'thầy wzjwz208': 22049,\n",
       " 'wzjwz208 đi': 28157,\n",
       " 'đi qua': 29067,\n",
       " 'qua nước': 18258,\n",
       " 'nước ngoài': 17367,\n",
       " 'ngoài giữa': 14956,\n",
       " 'giữa chừng': 7527,\n",
       " 'chừng thầy': 2930,\n",
       " 'thầy wzjwz209': 22050,\n",
       " 'wzjwz209 dạy': 28158,\n",
       " 'dạy thay': 5978,\n",
       " 'học còn': 9380,\n",
       " 'còn dễ': 3586,\n",
       " 'dễ cần': 6197,\n",
       " 'cần nâng': 4746,\n",
       " 'nâng độ': 16802,\n",
       " 'độ khó': 30991,\n",
       " 'khó lên': 10462,\n",
       " 'lên nữa': 12234,\n",
       " 'có thể': 3938,\n",
       " 'thể cho': 22247,\n",
       " 'viên đi': 26397,\n",
       " 'đi thăm': 29081,\n",
       " 'thăm quan': 21544,\n",
       " 'quan nhiều': 18307,\n",
       " 'nhiều công': 15511,\n",
       " 'công ty': 4241,\n",
       " 'ty xem': 24239,\n",
       " 'xem quy': 28335,\n",
       " 'quy mô': 18358,\n",
       " 'mô và': 13763,\n",
       " 'và cách': 26724,\n",
       " 'cách làm': 3342,\n",
       " 'làm việc': 12141,\n",
       " 'việc để': 26600,\n",
       " 'để giúp': 30621,\n",
       " 'giúp hiểu': 7071,\n",
       " 'hiểu rõ': 8284,\n",
       " 'hơn vê': 9084,\n",
       " 'vê ngành': 27232,\n",
       " 'ngành mình': 15042,\n",
       " 'mình đang': 13738,\n",
       " 'đang học': 28984,\n",
       " 'hài lòng': 8578,\n",
       " 'lòng về': 12306,\n",
       " 'về tất': 27739,\n",
       " 'tất cả': 25138,\n",
       " 'tình vui': 24606,\n",
       " 'vui vẻ': 26673,\n",
       " 'thấy nhiệt': 21706,\n",
       " 'tình trong': 24581,\n",
       " 'trong việc': 23400,\n",
       " 'việc trao': 26572,\n",
       " 'trao đổi': 23290,\n",
       " 'đổi giúp': 30917,\n",
       " 'giúp đỡ': 7090,\n",
       " 'đỡ về': 31170,\n",
       " 'về học': 27662,\n",
       " 'học tập': 9615,\n",
       " 'phong cách': 17636,\n",
       " 'cách giảng': 3318,\n",
       " 'bài của': 551,\n",
       " 'của thầy': 5054,\n",
       " 'rất gần': 19020,\n",
       " 'dạy kết': 5886,\n",
       " 'kết hợp': 11158,\n",
       " 'hợp các': 9839,\n",
       " 'các hoạt': 3209,\n",
       " 'hoạt động': 8457,\n",
       " 'động giải': 31047,\n",
       " 'giải trí': 7134,\n",
       " 'trí có': 23741,\n",
       " 'có hiệu': 3794,\n",
       " 'cần tạo': 4804,\n",
       " 'tạo các': 25012,\n",
       " 'các buổi': 3170,\n",
       " 'buổi seminar': 481,\n",
       " 'seminar để': 19498,\n",
       " 'để sinh': 30697,\n",
       " 'viên có': 26077,\n",
       " 'thể hiểu': 22286,\n",
       " 'hiểu sâu': 8294,\n",
       " 'sâu thêm': 19954,\n",
       " 'thêm về': 21235,\n",
       " 'về các': 27638,\n",
       " 'các vấn': 3287,\n",
       " 'vấn đề': 27429,\n",
       " 'đề trong': 30490,\n",
       " 'trong chuyên': 23319,\n",
       " 'chuyên ngành': 2000,\n",
       " 'ngành nhưng': 15046,\n",
       " 'nhưng không': 16129,\n",
       " 'không có': 10571,\n",
       " 'có trong': 3946,\n",
       " 'trong môn': 23362,\n",
       " 'tiết học': 22976,\n",
       " 'học thoải': 9569,\n",
       " 'thoải mái': 20861,\n",
       " 'thầy nhiệt': 21900,\n",
       " 'tình quan': 24554,\n",
       " 'quan tâm': 18322,\n",
       " 'tâm tới': 24379,\n",
       " 'tới sinh': 25703,\n",
       " 'dạy nhiệt': 5930,\n",
       " 'tình hướng': 24506,\n",
       " 'hướng dẫn': 9151,\n",
       " 'dẫn chi': 6078,\n",
       " 'chi tiết': 1685,\n",
       " 'tiết đến': 23044,\n",
       " 'đến lúc': 30327,\n",
       " 'lúc sinh': 12358,\n",
       " 'viên hiểu': 26133,\n",
       " 'chưa có': 2313,\n",
       " 'nhiều tiết': 15638,\n",
       " 'tiết làm': 22988,\n",
       " 'làm bài': 12016,\n",
       " 'tập chữa': 25186,\n",
       " 'chữa bài': 2955,\n",
       " 'tập trên': 25349,\n",
       " 'tài liệu': 24250,\n",
       " 'liệu được': 11564,\n",
       " 'được bổ': 29785,\n",
       " 'bổ sung': 1488,\n",
       " 'sung nhiều': 19803,\n",
       " 'nhiều và': 15661,\n",
       " 'và đầy': 27081,\n",
       " 'đủ trên': 31258,\n",
       " 'trên moodle': 23551,\n",
       " 'viên phải': 26260,\n",
       " 'phải nên': 17948,\n",
       " 'nên cho': 16823,\n",
       " 'cho ví': 1932,\n",
       " 'dụ cụ': 6302,\n",
       " 'cụ thể': 4984,\n",
       " 'thể những': 22329,\n",
       " 'những phần': 16569,\n",
       " 'phần quan': 18100,\n",
       " 'quan trọng': 18320,\n",
       " 'trọng nên': 24055,\n",
       " 'nên nói': 16949,\n",
       " 'nói kỹ': 17144,\n",
       " 'kỹ có': 11332,\n",
       " 'thể lấy': 22308,\n",
       " 'lấy ví': 12736,\n",
       " 'dụ minh': 6323,\n",
       " 'minh họa': 13329,\n",
       " 'họa tránh': 9338,\n",
       " 'tránh việc': 23510,\n",
       " 'việc lập': 26531,\n",
       " 'lập đi': 12802,\n",
       " 'đi lập': 29055,\n",
       " 'lập lại': 12794,\n",
       " 'lại nhiều': 12655,\n",
       " 'nhiều lần': 15571,\n",
       " 'lần sẽ': 12769,\n",
       " 'sẽ tạo': 20104,\n",
       " 'tạo cảm': 25018,\n",
       " 'cảm giác': 4592,\n",
       " 'giác chán': 6997,\n",
       " 'chán cho': 2093,\n",
       " 'nên biên': 16808,\n",
       " 'biên soạn': 279,\n",
       " 'soạn một': 19749,\n",
       " 'một tài': 14336,\n",
       " 'liệu của': 11491,\n",
       " 'của chính': 4997,\n",
       " 'chính trường': 2193,\n",
       " 'trường ta': 23901,\n",
       " 'không giúp': 10605,\n",
       " 'đỡ sinh': 31161,\n",
       " 'viên trong': 26325,\n",
       " 'trong những': 23371,\n",
       " 'những vấn': 16596,\n",
       " 'đề xung': 30507,\n",
       " 'xung quanh': 28410,\n",
       " 'tập đa': 25382,\n",
       " 'đa dạng': 28970,\n",
       " 'dạng cụ': 5760,\n",
       " 'dung giảng': 5443,\n",
       " 'viên yêu': 26389,\n",
       " 'yêu câu': 28632,\n",
       " 'câu seminar': 3535,\n",
       " 'seminar hầu': 19480,\n",
       " 'như không': 15982,\n",
       " 'có tài': 3958,\n",
       " 'liệu tham': 11540,\n",
       " 'tham khảo': 20464,\n",
       " 'khảo và': 10873,\n",
       " 'và rất': 26937,\n",
       " 'rất ít': 19155,\n",
       " 'ít ứng': 28936,\n",
       " 'ứng dụng': 31373,\n",
       " 'dụng trong': 6454,\n",
       " 'trong thực': 23387,\n",
       " 'thực tế': 22771,\n",
       " 'tế đề': 25493,\n",
       " 'đề nghị': 30460,\n",
       " 'nghị có': 14918,\n",
       " 'có sự': 3923,\n",
       " 'sự thay': 20386,\n",
       " 'thay đổi': 20512,\n",
       " 'đổi trong': 30949,\n",
       " 'những năm': 16565,\n",
       " 'năm học': 17249,\n",
       " 'học tới': 9617,\n",
       " 'slide up': 19704,\n",
       " 'up đầy': 25968,\n",
       " 'đủ trước': 31259,\n",
       " 'trước mỗi': 23822,\n",
       " 'mỗi buổi': 14204,\n",
       " 'buổi học': 458,\n",
       " 'dạy quá': 5955,\n",
       " 'quá nhàm': 18476,\n",
       " 'nhàm chán': 15774,\n",
       " 'chán khô': 2108,\n",
       " 'khô khan': 10535,\n",
       " 'lượng kiến': 12517,\n",
       " 'kiến thức': 10991,\n",
       " 'thức quá': 22651,\n",
       " 'quá nhiều': 18472,\n",
       " 'nhiều trong': 15642,\n",
       " 'trong một': 23367,\n",
       " 'một học': 14271,\n",
       " 'thầy chép': 21789,\n",
       " 'chép bảng': 2143,\n",
       " 'bảng nhiều': 1092,\n",
       " 'thầy tận': 21986,\n",
       " 'dẫn cách': 6087,\n",
       " 'làm giải': 12045,\n",
       " 'giải quyết': 7121,\n",
       " 'quyết những': 18372,\n",
       " 'những thắc': 16583,\n",
       " 'thắc mắc': 22196,\n",
       " 'mắc của': 14041,\n",
       " 'chúc các': 2233,\n",
       " 'các thầy': 3267,\n",
       " 'thầy cô': 21806,\n",
       " 'cô anh': 4018,\n",
       " 'anh chị': 180,\n",
       " 'chị làm': 2768,\n",
       " 'việc vui': 26587,\n",
       " 'hay nhiệt': 8025,\n",
       " 'tình dễ': 24480,\n",
       " 'dễ hiểu': 6210,\n",
       " 'mặc dù': 14091,\n",
       " 'dù nhiệt': 5668,\n",
       " 'tình nhưng': 24541,\n",
       " 'nhưng khi': 16126,\n",
       " 'khi truyền': 10102,\n",
       " 'truyền đạt': 23471,\n",
       " 'đạt thì': 30118,\n",
       " 'thì lại': 21310,\n",
       " 'lại khó': 12636,\n",
       " 'khó hiểu': 10445,\n",
       " 'hiểu sử': 8299,\n",
       " 'sử dụng': 20275,\n",
       " 'dụng ngôn': 6424,\n",
       " 'ngôn từ': 15095,\n",
       " 'từ gây': 25800,\n",
       " 'gây khó': 7587,\n",
       " 'khó khăn': 10455,\n",
       " 'khăn cho': 10832,\n",
       " 'việc hiểu': 26513,\n",
       " 'hiểu bài': 8165,\n",
       " 'thầy dạy': 21824,\n",
       " 'dạy khá': 5876,\n",
       " 'khá hay': 10260,\n",
       " 'hay cung': 7935,\n",
       " 'cung cấp': 3079,\n",
       " 'cấp nhiều': 4634,\n",
       " 'nhiều thông': 15630,\n",
       " 'tin liên': 22795,\n",
       " 'liên quan': 11460,\n",
       " 'quan đến': 18332,\n",
       " 'đến môn': 30335,\n",
       " 'học đưa': 9659,\n",
       " 'đưa ra': 29724,\n",
       " 'ra nhiều': 18754,\n",
       " 'nhiều hướng': 15538,\n",
       " 'hướng giải': 9152,\n",
       " 'quyết khi': 18369,\n",
       " 'khi sinh': 10085,\n",
       " 'viên gặp': 26126,\n",
       " 'gặp vấn': 7820,\n",
       " 'đề khó': 30441,\n",
       " 'khăn với': 10847,\n",
       " 'với đồ': 27936,\n",
       " 'đồ án': 30872,\n",
       " 'hy vọng': 8574,\n",
       " 'vọng học': 27796,\n",
       " 'kỳ sau': 11286,\n",
       " 'sau có': 19416,\n",
       " 'thể học': 22294,\n",
       " 'học được': 9660,\n",
       " 'được với': 30006,\n",
       " 'với cô': 27835,\n",
       " 'nhiều khi': 15543,\n",
       " 'khi em': 10029,\n",
       " 'em lên': 6572,\n",
       " 'lớp học': 13033,\n",
       " 'học môn': 9483,\n",
       " 'môn đặc': 13881,\n",
       " 'đặc tả': 30238,\n",
       " 'tả hình': 25090,\n",
       " 'hình thức': 8817,\n",
       " 'thức giống': 22578,\n",
       " 'giống như': 7406,\n",
       " 'như lên': 15991,\n",
       " 'học mà': 9480,\n",
       " 'mà không': 13507,\n",
       " 'không biết': 10539,\n",
       " 'biết mình': 323,\n",
       " 'mình học': 13717,\n",
       " 'học cái': 9379,\n",
       " 'cái gì': 3432,\n",
       " 'trong khi': 23345,\n",
       " 'khi giảng': 10034,\n",
       " 'giảng nói': 7267,\n",
       " 'nói nhỏ': 17172,\n",
       " 'nhỏ quá': 16436,\n",
       " 'thực hành': 22751,\n",
       " 'hành khó': 8653,\n",
       " 'tận tâm': 25163,\n",
       " 'tâm nhiệt': 24342,\n",
       " 'tâm đến': 24394,\n",
       " 'đến sinh': 30364,\n",
       " 'viên giảng': 26118,\n",
       " 'bài dễ': 556,\n",
       " 'hiểu kiến': 8226,\n",
       " 'thức sâu': 22665,\n",
       " 'sâu rộng': 19950,\n",
       " 'rộng am': 19275,\n",
       " 'am hiểu': 169,\n",
       " 'hiểu cao': 8170,\n",
       " 'cô dạy': 4049,\n",
       " 'dạy với': 6038,\n",
       " 'với nhiệt': 27885,\n",
       " 'nhiệt huyết': 15707,\n",
       " 'huyết của': 8535,\n",
       " 'của mình': 5030,\n",
       " 'mình dù': 13709,\n",
       " 'dù như': 5669,\n",
       " 'như thế': 16041,\n",
       " 'thế nào': 22232,\n",
       " 'nào cô': 16635,\n",
       " 'cô vẫn': 4147,\n",
       " 'vẫn luôn': 27448,\n",
       " 'luôn mỉm': 11691,\n",
       " 'mỉm cười': 14170,\n",
       " 'cười và': 4461,\n",
       " 'và kiên': 26820,\n",
       " 'kiên trì': 10941,\n",
       " 'trì giảng': 23593,\n",
       " 'bài cho': 531,\n",
       " 'cho chúng': 1782,\n",
       " 'chúng em': 2236,\n",
       " 'em đến': 6682,\n",
       " 'đến khi': 30316,\n",
       " 'khi chúng': 10004,\n",
       " 'em hiểu': 6552,\n",
       " 'cô lên': 4084,\n",
       " 'lớp đúng': 13151,\n",
       " 'giờ giảng': 7437,\n",
       " 'bài rất': 634,\n",
       " 'rất dễ': 19015,\n",
       " 'hiểu cho': 8172,\n",
       " 'những thông': 16581,\n",
       " 'tin cần': 22784,\n",
       " 'cần thiết': 4781,\n",
       " 'thiết như': 20706,\n",
       " 'như doubledot': 15962,\n",
       " 'doubledot thời': 5397,\n",
       " 'gian dealine': 6835,\n",
       " 'dealine cách': 5249,\n",
       " 'cách nộp': 3359,\n",
       " 'nộp bài': 17515,\n",
       " 'bài thường': 651,\n",
       " 'thường không': 21608,\n",
       " 'không dặn': 10593,\n",
       " 'dặn lớp': 6182,\n",
       " 'lớp thực': 13109,\n",
       " 'hành thứ': 8727,\n",
       " 'thứ hai': 22501,\n",
       " 'dễ chịu': 6196,\n",
       " 'viên chưa': 26057,\n",
       " 'chưa đi': 2400,\n",
       " 'đi sâu': 29073,\n",
       " 'sâu vào': 19959,\n",
       " 'vào bản': 27134,\n",
       " 'bản chất': 1029,\n",
       " 'chất của': 2487,\n",
       " 'của vấn': 5066,\n",
       " 'đề em': 30426,\n",
       " 'em chỉ': 6524,\n",
       " 'chỉ học': 2660,\n",
       " 'học thôi': 9578,\n",
       " 'thôi mà': 21480,\n",
       " 'biết bản': 292,\n",
       " 'của nó': 5040,\n",
       " 'nó là': 17082,\n",
       " 'là gì': 11840,\n",
       " 'gì nó': 7660,\n",
       " 'nó có': 17074,\n",
       " 'có ứng': 4017,\n",
       " 'dụng gì': 6395,\n",
       " 'gì sau': 7665,\n",
       " 'sau này': 19443,\n",
       " 'này cho': 16689,\n",
       " 'cho chuyên': 1779,\n",
       " 'chuyên nghành': 1999,\n",
       " 'nghành của': 14749,\n",
       " 'của em': 5011,\n",
       " 'đặc biệt': 30235,\n",
       " 'biệt hơn': 405,\n",
       " 'hơn là': 9023,\n",
       " 'là thầy': 11950,\n",
       " 'thầy đã': 22135,\n",
       " 'đã bỏ': 29421,\n",
       " 'bỏ rất': 1453,\n",
       " 'rất nhiều': 19072,\n",
       " 'công sức': 4232,\n",
       " 'sức trong': 20266,\n",
       " 'việc ra': 26550,\n",
       " 'ra bài': 18703,\n",
       " 'tập và': 25368,\n",
       " 'và chấm': 26710,\n",
       " 'chấm điểm': 2477,\n",
       " 'điểm một': 29200,\n",
       " 'một cách': 14248,\n",
       " 'cách rõ': 3364,\n",
       " 'rõ ràng': 18944,\n",
       " 'ràng và': 18877,\n",
       " 'và minh': 26856,\n",
       " 'minh bạch': 13326,\n",
       " 'cô rất': 4111,\n",
       " 'rất nhiệt': 19073,\n",
       " 'và tận': 27019,\n",
       " 'tận dụng': 25156,\n",
       " 'dụng tốt': 6462,\n",
       " 'tốt thời': 25614,\n",
       " 'viên tận': 26352,\n",
       " 'huyết trong': 8561,\n",
       " 'trong giảng': 23337,\n",
       " 'tình gần': 24492,\n",
       " 'tâm giảng': 24314,\n",
       " 'giảng dễ': 7218,\n",
       " 'hiểu dễ': 8197,\n",
       " 'dễ tiếp': 6243,\n",
       " 'tạo ra': 25049,\n",
       " 'ra sự': 18772,\n",
       " 'sự cạnh': 20323,\n",
       " 'cạnh tranh': 4514,\n",
       " 'tranh trong': 23285,\n",
       " 'trong mỗi': 23366,\n",
       " 'buổi thực': 493,\n",
       " 'và có': 26728,\n",
       " 'có code': 3743,\n",
       " 'code tham': 3008,\n",
       " 'nâng cấp': 16800,\n",
       " 'cấp hệ': 4624,\n",
       " 'hệ thống': 9305,\n",
       " 'thống wifi': 22448,\n",
       " 'wifi vì': 28068,\n",
       " 'vì khi': 27268,\n",
       " 'khi vào': 10114,\n",
       " 'vào phòng': 27187,\n",
       " 'phòng thực': 17801,\n",
       " 'hành sinh': 8713,\n",
       " 'viên không': 26161,\n",
       " 'không thể': 10761,\n",
       " 'thể truy': 22365,\n",
       " 'truy cập': 23456,\n",
       " 'cập internet': 4899,\n",
       " 'internet buộc': 9935,\n",
       " 'buộc phải': 515,\n",
       " 'phải xin': 17993,\n",
       " 'xin phép': 28366,\n",
       " 'phép ra': 17740,\n",
       " 'ra ngoài': 18753,\n",
       " 'ngoài để': 14996,\n",
       " 'để làm': 30654,\n",
       " 'liệu không': 11510,\n",
       " 'không chi': 10551,\n",
       " 'tiết lắm': 22991,\n",
       " 'vui tính': 26667,\n",
       " 'tính dễ': 24696,\n",
       " 'dễ gần': 6206,\n",
       " 'gần với': 7768,\n",
       " 'rất hay': 19021,\n",
       " 'hay và': 8093,\n",
       " 'và nhiệt': 26885,\n",
       " 'dạy không': 5880,\n",
       " 'không đúng': 10811,\n",
       " 'giờ không': 7451,\n",
       " 'không hướng': 10625,\n",
       " 'dẫn sinh': 6133,\n",
       " 'viên thực': 26317,\n",
       " 'đỡ học': 31149,\n",
       " 'học sinh': 9552,\n",
       " 'sinh quá': 19572,\n",
       " 'quá ít': 18530,\n",
       " 'dạy buồn': 5789,\n",
       " 'buồn ngủ': 436,\n",
       " 'ngủ quá': 15267,\n",
       " 'nên kinh': 16907,\n",
       " 'kinh mong': 10925,\n",
       " 'mong nội': 13366,\n",
       " 'được giảm': 29838,\n",
       " 'giảm tải': 7163,\n",
       " 'tải cho': 25097,\n",
       " 'cho phù': 1877,\n",
       " 'phù hợp': 17830,\n",
       " 'hợp hơn': 9851,\n",
       " 'hơn với': 9089,\n",
       " 'với đặc': 27934,\n",
       " 'đặc thù': 30236,\n",
       " 'thù của': 21503,\n",
       " 'của một': 5034,\n",
       " 'một trường': 14334,\n",
       " 'trường công': 23861,\n",
       " 'cô lại': 4085,\n",
       " 'lại kiểu': 12640,\n",
       " 'kiểu khó': 11009,\n",
       " 'khó tính': 10497,\n",
       " 'tính nữa': 24749,\n",
       " 'tạo hứng': 25029,\n",
       " 'hứng thú': 9912,\n",
       " 'thú cho': 21505,\n",
       " 'cô giảng': 4059,\n",
       " 'giảng hay': 7226,\n",
       " 'hay cuốn': 7936,\n",
       " 'cuốn hút': 3113,\n",
       " 'hút và': 8886,\n",
       " 'và truyền': 26991,\n",
       " 'đạt dễ': 30076,\n",
       " 'có hứng': 3805,\n",
       " 'thú học': 21507,\n",
       " 'ôn tập': 28956,\n",
       " 'tập đúng': 25387,\n",
       " 'đúng theo': 29678,\n",
       " 'theo thầy': 20570,\n",
       " 'thầy nhưng': 21903,\n",
       " 'biết cuối': 299,\n",
       " 'cuối kỳ': 3097,\n",
       " 'kỳ được': 11319,\n",
       " 'được mấy': 29894,\n",
       " 'mấy điểm': 14007,\n",
       " 'viên hướng': 26146,\n",
       " 'dẫn cụ': 6093,\n",
       " 'thể chi': 22245,\n",
       " 'trình quá': 23685,\n",
       " 'ít và': 28926,\n",
       " 'và nội': 26910,\n",
       " 'dung không': 5455,\n",
       " 'không khác': 10637,\n",
       " 'khác nhau': 10349,\n",
       " 'nhau là': 15407,\n",
       " 'là mấy': 11889,\n",
       " 'giáo viên': 7046,\n",
       " 'viên nghỉ': 26219,\n",
       " 'nghỉ dạy': 14859,\n",
       " 'dạy liên': 5891,\n",
       " 'liên tục': 11464,\n",
       " 'tục cuối': 25723,\n",
       " 'cuối học': 3094,\n",
       " 'kỳ lại': 11263,\n",
       " 'lại tăng': 12690,\n",
       " 'tăng học': 24877,\n",
       " 'học bù': 9349,\n",
       " 'bù những': 897,\n",
       " 'những tiết': 16586,\n",
       " 'bù đó': 910,\n",
       " 'đó đã': 29608,\n",
       " 'đã ảnh': 29504,\n",
       " 'ảnh hưởng': 31332,\n",
       " 'hưởng đến': 9186,\n",
       " 'đến những': 30350,\n",
       " 'những đồ': 16606,\n",
       " 'án và': 28767,\n",
       " 'và trễ': 26999,\n",
       " 'trễ deadline': 23997,\n",
       " 'viên lúc': 26178,\n",
       " 'lúc dạy': 12326,\n",
       " 'dạy lúc': 5898,\n",
       " 'lúc không': 12338,\n",
       " 'không không': 10641,\n",
       " 'không dạy': 10591,\n",
       " 'dạy cũng': 5825,\n",
       " 'cũng không': 4375,\n",
       " 'không thông': 10757,\n",
       " 'thông báo': 21489,\n",
       " 'báo sinh': 809,\n",
       " 'viên tốn': 26355,\n",
       " 'tốn thời': 25523,\n",
       " 'gian công': 6831,\n",
       " 'sức tiền': 20265,\n",
       " 'tiền bạc': 23050,\n",
       " 'bạc rồi': 943,\n",
       " 'rồi ngồi': 19243,\n",
       " 'ngồi đợi': 15232,\n",
       " 'đợi và': 31183,\n",
       " 'đi về': 29094,\n",
       " 'cần có': 4693,\n",
       " 'có một': 3857,\n",
       " 'một phòng': 14310,\n",
       " 'phòng máy': 17787,\n",
       " 'máy tốt': 13669,\n",
       " 'tốt hơn': 25568,\n",
       " 'hơn hiện': 9009,\n",
       " 'hiện đại': 8406,\n",
       " 'đại hơn': 30048,\n",
       " 'thầy nên': 21911,\n",
       " 'cho làm': 1838,\n",
       " 'tập tương': 25356,\n",
       " 'tương tự': 24927,\n",
       " 'tự nhau': 25923,\n",
       " 'nhau nhiều': 15410,\n",
       " 'nhiều hơn': 15537,\n",
       " 'hơn một': 9032,\n",
       " 'một vài': 14341,\n",
       " 'vài bài': 27097,\n",
       " 'bài để': 698,\n",
       " 'để tránh': 30721,\n",
       " 'tránh tình': 23509,\n",
       " 'tình trạng': 24585,\n",
       " 'trạng quên': 23945,\n",
       " 'quên hoặc': 18572,\n",
       " 'hoặc các': 8469,\n",
       " 'các dạng': 3198,\n",
       " 'dạng tựa': 5778,\n",
       " 'tựa nhau': 25952,\n",
       " 'nhau nhưng': 15411,\n",
       " 'nhưng hơi': 16122,\n",
       " 'hơi khác': 8913,\n",
       " 'khác cách': 10326,\n",
       " 'không ngờ': 10682,\n",
       " 'ngờ môn': 15238,\n",
       " 'này lại': 16736,\n",
       " 'lại chán': 12596,\n",
       " 'chán đến': 2130,\n",
       " 'đến như': 30348,\n",
       " 'như vậy': 16063,\n",
       " 'vậy không': 27501,\n",
       " 'không học': 10629,\n",
       " 'được gì': 29843,\n",
       " 'gì từ': 7678,\n",
       " 'từ môn': 25810,\n",
       " 'này thầy': 16766,\n",
       " 'dạy chán': 5802,\n",
       " 'chán kinh': 2111,\n",
       " 'kinh khủng': 10924,\n",
       " 'khủng hay': 10917,\n",
       " 'hay đi': 8103,\n",
       " 'đi trễ': 29087,\n",
       " 'trễ từ': 24021,\n",
       " 'từ 30': 25776,\n",
       " '30 45': 82,\n",
       " '45 phút': 101,\n",
       " 'phút không': 17844,\n",
       " 'không nhiệt': 10685,\n",
       " 'viên đánh': 26399,\n",
       " 'đánh giá': 29334,\n",
       " 'giá sai': 6982,\n",
       " 'sai điểm': 19357,\n",
       " 'điểm và': 29248,\n",
       " 'và năng': 26905,\n",
       " 'năng lực': 17305,\n",
       " 'lực của': 13219,\n",
       " 'của học': 5019,\n",
       " 'không đáp': 10809,\n",
       " 'đáp ứng': 29388,\n",
       " 'ứng được': 31381,\n",
       " 'được đề': 30033,\n",
       " 'đề cương': 30415,\n",
       " 'cương môn': 4448,\n",
       " 'học đề': 9666,\n",
       " 'đề ra': 30475,\n",
       " 'nên hướng': 16890,\n",
       " 'dẫn thực': 6141,\n",
       " 'hành nhiều': 8686,\n",
       " 'viên thân': 26299,\n",
       " 'thân thiện': 21140,\n",
       " 'thiện quan': 20807,\n",
       " 'môn lập': 13815,\n",
       " 'lập trình': 12799,\n",
       " 'trình hướng': 23643,\n",
       " 'hướng đối': 9178,\n",
       " 'đối tượng': 30859,\n",
       " 'tượng nên': 24964,\n",
       " 'nên cập': 16854,\n",
       " 'cập nhật': 4907,\n",
       " 'nhật thêm': 16352,\n",
       " 'thêm những': 21196,\n",
       " 'những nội': 16566,\n",
       " 'dung mới': 5466,\n",
       " 'mới dễ': 14386,\n",
       " 'hiểu và': 8341,\n",
       " 'và giảng': 26773,\n",
       " 'giảng giải': 7221,\n",
       " 'giải cụ': 7100,\n",
       " 'thể hơn': 22291,\n",
       " 'viên nhiệt': 26228,\n",
       " 'tình tâm': 24592,\n",
       " 'tâm huyết': 24319,\n",
       " 'huyết khả': 8548,\n",
       " 'khả năng': 10850,\n",
       " 'năng truyền': 17335,\n",
       " 'đạt tốt': 30131,\n",
       " 'rất tốt': 19141,\n",
       " 'tốt và': 25628,\n",
       " 'cô nói': 4102,\n",
       " 'nói hơi': 17136,\n",
       " 'hơi nhỏ': 8937,\n",
       " 'nhỏ nếu': 16435,\n",
       " 'nếu lớp': 17440,\n",
       " 'lớp ồn': 13164,\n",
       " 'ồn sẽ': 31359,\n",
       " 'sẽ khó': 20065,\n",
       " 'khó nghe': 10468,\n",
       " 'tập cô': 25195,\n",
       " 'cô đưa': 4209,\n",
       " 'và khó': 26814,\n",
       " 'khó tìm': 10496,\n",
       " 'tìm hiểu': 24416,\n",
       " 'hiểu với': 8350,\n",
       " 'với kiến': 27858,\n",
       " 'kiến thực': 10992,\n",
       " 'thực hiện': 22749,\n",
       " 'hiện tại': 8403,\n",
       " 'tại của': 24979,\n",
       " 'viên thì': 26301,\n",
       " 'thì khó': 21299,\n",
       " 'khó có': 10431,\n",
       " 'thể tìm': 22372,\n",
       " 'và làm': 26837,\n",
       " 'làm tốt': 12137,\n",
       " 'tốt bài': 25528,\n",
       " 'cô ra': 4110,\n",
       " 'và hoạt': 26793,\n",
       " 'động nhóm': 31080,\n",
       " 'nhóm còn': 15856,\n",
       " 'còn ít': 3689,\n",
       " 'tình phương': 24551,\n",
       " 'phương pháp': 17864,\n",
       " 'pháp giảng': 17662,\n",
       " 'dạy hay': 5852,\n",
       " 'hay sinh': 8048,\n",
       " 'viên nắm': 26250,\n",
       " 'nắm bắt': 17380,\n",
       " 'bắt kiến': 1217,\n",
       " 'thức ngay': 22626,\n",
       " 'cô hướng': 4068,\n",
       " 'hành khá': 8651,\n",
       " 'khá đầy': 10318,\n",
       " 'được học': 29855,\n",
       " 'học nhiều': 9502,\n",
       " 'nhiều kinh': 15549,\n",
       " 'kinh nghiệm': 10926,\n",
       " 'nghiệm từ': 14721,\n",
       " 'từ thầy': 25828,\n",
       " 'thầy wzjwz163': 22026,\n",
       " 'thức của': 22566,\n",
       " 'tốt bảo': 25530,\n",
       " 'bảo đảm': 1162,\n",
       " 'đảm giờ': 30150,\n",
       " 'giờ lên': 7457,\n",
       " 'tại em': 24981,\n",
       " 'em chưa': 6522,\n",
       " 'chưa thấy': 2379,\n",
       " 'thấy tác': 21741,\n",
       " 'tác dụng': 24271,\n",
       " 'gì nhiều': 7656,\n",
       " 'khi học': 10044,\n",
       " 'cải thiện': 4586,\n",
       " 'thiện lại': 20798,\n",
       " 'lại cơ': 12613,\n",
       " 'cơ sở': 4434,\n",
       " 'sở vật': 20239,\n",
       " 'vật chất': 27482,\n",
       " 'chất máy': 2497,\n",
       " 'máy chiếu': 13623,\n",
       " 'chiếu trong': 1748,\n",
       " 'trong phòng': 23373,\n",
       " 'phòng học': 17778,\n",
       " 'không phù': 10708,\n",
       " 'hợp với': 9882,\n",
       " 'với cách': 27833,\n",
       " 'cách học': 3327,\n",
       " 'học của': 9395,\n",
       " 'giải thích': 7131,\n",
       " 'thích nội': 21441,\n",
       " 'mới rõ': 14433,\n",
       " 'quá đông': 18538,\n",
       " 'môn căn': 13779,\n",
       " 'căn bản': 4310,\n",
       " 'bản mà': 1045,\n",
       " 'mà thầy': 13547,\n",
       " 'thầy không': 21866,\n",
       " 'dạy cho': 5800,\n",
       " 'viên kỹ': 26169,\n",
       " 'kỹ gây': 11338,\n",
       " 'gây không': 7588,\n",
       " 'không hiểu': 10618,\n",
       " 'hiểu mất': 8247,\n",
       " 'mất căn': 13963,\n",
       " 'chưa cho': 2301,\n",
       " 'cho bài': 1772,\n",
       " 'tập về': 25374,\n",
       " 'về nhà': 27700,\n",
       " 'nhà để': 15771,\n",
       " 'viên làm': 26176,\n",
       " 'làm nên': 12095,\n",
       " 'bài mỗi': 601,\n",
       " 'mỗi chương': 14206,\n",
       " 'chương không': 2429,\n",
       " 'không cần': 10576,\n",
       " 'cần chữa': 4688,\n",
       " 'chữa chỉ': 2956,\n",
       " 'chỉ cần': 2642,\n",
       " 'cần đáp': 4823,\n",
       " 'đáp án': 29384,\n",
       " 'mà hiện': 13496,\n",
       " 'tại trường': 25000,\n",
       " 'ta chưa': 20431,\n",
       " 'có đây': 3998,\n",
       " 'đây là': 29410,\n",
       " 'là thiệt': 11943,\n",
       " 'thiệt thòi': 20831,\n",
       " 'thòi lớn': 21471,\n",
       " 'lớn đối': 12982,\n",
       " 'đối với': 30861,\n",
       " 'với tụi': 27924,\n",
       " 'tụi em': 25755,\n",
       " 'tôi cảm': 24823,\n",
       " 'cảm thấy': 4596,\n",
       " 'thấy giảng': 21683,\n",
       " 'viên dạy': 26105,\n",
       " 'biết thầy': 349,\n",
       " 'thầy nào': 21909,\n",
       " 'nào dạy': 16639,\n",
       " 'dạy chính': 5803,\n",
       " 'chính thức': 2192,\n",
       " 'thức mà': 22618,\n",
       " 'mà học': 13502,\n",
       " 'học thường': 9581,\n",
       " 'thường nghỉ': 21615,\n",
       " 'nghỉ không': 14872,\n",
       " 'báo trước': 817,\n",
       " 'trước để': 23849,\n",
       " 'viên đứng': 26427,\n",
       " 'đứng chờ': 31284,\n",
       " 'chờ sắp': 2866,\n",
       " 'sắp hết': 20012,\n",
       " 'hết tiết': 9268,\n",
       " 'tiết rồi': 23015,\n",
       " 'rồi tự': 19263,\n",
       " 'tự về': 25943,\n",
       " 'về nhiều': 27699,\n",
       " 'sự tương': 20407,\n",
       " 'tương tác': 24926,\n",
       " 'tác giữa': 24273,\n",
       " ...}"
      ]
     },
     "execution_count": 59,
     "metadata": {},
     "output_type": "execute_result"
    }
   ],
   "source": [
    "encoder_2.vocabulary_"
   ]
  },
  {
   "cell_type": "code",
   "execution_count": 60,
   "metadata": {
    "id": "lz5CYx8quz6d"
   },
   "outputs": [],
   "source": [
    "X_train_encoded_2 = encoder_2.transform(X_train[0])\n",
    "X_dev_encoded_2 = encoder_2.transform(X_dev[0])\n",
    "X_test_encoded_2 = encoder_2.transform(X_test[0])"
   ]
  },
  {
   "cell_type": "markdown",
   "metadata": {
    "id": "pBs5XVXju8rE"
   },
   "source": [
    "**Huấn luyện mô hình và dự đoán**"
   ]
  },
  {
   "cell_type": "markdown",
   "metadata": {
    "id": "6vr1_TDQu3iq"
   },
   "source": [
    "**Mô hình Naive Bayes**"
   ]
  },
  {
   "cell_type": "code",
   "execution_count": 61,
   "metadata": {
    "id": "dWeAppNdu2we"
   },
   "outputs": [],
   "source": [
    "model_NB_2 = MultinomialNB()\n",
    "model_NB_2.fit(X_train_encoded_2, y_train)\n",
    "\n",
    "# Dự đoán nhãn và lưu vào biến y_pred_NB_2\n",
    "y_pred_NB_2 = model_NB_2.predict(X_test_encoded_2)"
   ]
  },
  {
   "cell_type": "markdown",
   "metadata": {
    "id": "8K3aFVz3vhsH"
   },
   "source": [
    "**Mô hình Logistic Regression**"
   ]
  },
  {
   "cell_type": "code",
   "execution_count": 62,
   "metadata": {
    "colab": {
     "base_uri": "https://localhost:8080/"
    },
    "id": "TsJuGEbFvivt",
    "outputId": "48361bc0-e716-424c-99ea-c2f30fca339f"
   },
   "outputs": [
    {
     "name": "stderr",
     "output_type": "stream",
     "text": [
      "/usr/local/lib/python3.7/dist-packages/sklearn/linear_model/_logistic.py:818: ConvergenceWarning: lbfgs failed to converge (status=1):\n",
      "STOP: TOTAL NO. of ITERATIONS REACHED LIMIT.\n",
      "\n",
      "Increase the number of iterations (max_iter) or scale the data as shown in:\n",
      "    https://scikit-learn.org/stable/modules/preprocessing.html\n",
      "Please also refer to the documentation for alternative solver options:\n",
      "    https://scikit-learn.org/stable/modules/linear_model.html#logistic-regression\n",
      "  extra_warning_msg=_LOGISTIC_SOLVER_CONVERGENCE_MSG,\n"
     ]
    }
   ],
   "source": [
    "model_Reg_2 = LogisticRegression()\n",
    "model_Reg_2.fit(X_train_encoded_2, y_train)\n",
    "\n",
    "# Dự đoán nhãn và lưu vào biến y_pred_Reg_2\n",
    "y_pred_Reg_2 = model_Reg_2.predict(X_test_encoded_2)"
   ]
  },
  {
   "cell_type": "markdown",
   "metadata": {
    "id": "ntAmUl65vn2T"
   },
   "source": [
    "**Mô hình SVM**"
   ]
  },
  {
   "cell_type": "code",
   "execution_count": 63,
   "metadata": {
    "id": "4C3hR2GqvoaZ"
   },
   "outputs": [],
   "source": [
    "model_SVM_2=SVC(kernel = 'linear')\n",
    "model_SVM_2.fit(X_train_encoded_2, y_train)\n",
    "\n",
    "# Dự đoán nhãn và lưu vào biến y_pred_SVM_2\n",
    "y_pred_SVM_2 = model_SVM_2.predict(X_test_encoded_2)"
   ]
  },
  {
   "cell_type": "markdown",
   "metadata": {
    "id": "3xrLfa0Av0qH"
   },
   "source": [
    "**Đánh giá mô hình**\n",
    "\n"
   ]
  },
  {
   "cell_type": "markdown",
   "metadata": {
    "id": "fJXFxFXzv5dz"
   },
   "source": [
    "**Mô hình Naive Bayes**"
   ]
  },
  {
   "cell_type": "code",
   "execution_count": 64,
   "metadata": {
    "colab": {
     "base_uri": "https://localhost:8080/"
    },
    "id": "Qx0bwEVIv7r7",
    "outputId": "47ecbbde-7494-4b95-d46a-e5e5ea3c4022"
   },
   "outputs": [
    {
     "name": "stdout",
     "output_type": "stream",
     "text": [
      "Naive Bayes\n",
      "Accuracy :  86.35502210991788\n",
      "macro F1-score : 59.09980504824439\n"
     ]
    }
   ],
   "source": [
    "print('Naive Bayes')\n",
    "print('Accuracy : ',accuracy_score(y_test, y_pred_NB_2)*100)\n",
    "print('macro F1-score :',f1_score(y_test, y_pred_NB_2, average='macro')*100)"
   ]
  },
  {
   "cell_type": "markdown",
   "metadata": {
    "id": "i1Grpga3v-t6"
   },
   "source": [
    "**Mô hình Logistic Regression**"
   ]
  },
  {
   "cell_type": "code",
   "execution_count": 65,
   "metadata": {
    "colab": {
     "base_uri": "https://localhost:8080/"
    },
    "id": "ZdWo4CSWv93X",
    "outputId": "4b972270-7ac5-4c09-ce75-7c048f4fde98"
   },
   "outputs": [
    {
     "name": "stdout",
     "output_type": "stream",
     "text": [
      "Logistic Regresstion\n",
      "Accuracy :  86.29185091598231\n",
      "macro F1-score : 62.33059320033595\n"
     ]
    }
   ],
   "source": [
    "print('Logistic Regresstion')\n",
    "print('Accuracy : ',accuracy_score(y_test, y_pred_Reg_2)*100)\n",
    "print('macro F1-score :',f1_score(y_test, y_pred_Reg_2, average='macro')*100)"
   ]
  },
  {
   "cell_type": "markdown",
   "metadata": {
    "id": "P-8l8HHpwEHs"
   },
   "source": [
    "**Mô hình SVM**"
   ]
  },
  {
   "cell_type": "code",
   "execution_count": 66,
   "metadata": {
    "colab": {
     "base_uri": "https://localhost:8080/"
    },
    "id": "JAWKFdFPwDc6",
    "outputId": "4f798f21-ee2f-4e0e-de32-26bfdec7295f"
   },
   "outputs": [
    {
     "name": "stdout",
     "output_type": "stream",
     "text": [
      "SVM\n",
      "Accuracy :  87.52368919772584\n",
      "macro F1-score : 64.7353043608671\n"
     ]
    }
   ],
   "source": [
    "print('SVM')\n",
    "print('Accuracy : ',accuracy_score(y_test, y_pred_SVM_2)*100)\n",
    "print('macro F1-score :',f1_score(y_test, y_pred_SVM_2, average='macro')*100)"
   ]
  },
  {
   "cell_type": "markdown",
   "metadata": {
    "id": "X8riJLoiwKJS"
   },
   "source": [
    "**Confusion matrix**"
   ]
  },
  {
   "cell_type": "code",
   "execution_count": 67,
   "metadata": {
    "id": "xviHoTL7wG2n"
   },
   "outputs": [],
   "source": [
    "cf_2 = confusion_matrix(y_test, y_pred_NB_2)"
   ]
  },
  {
   "cell_type": "code",
   "execution_count": 68,
   "metadata": {
    "colab": {
     "base_uri": "https://localhost:8080/",
     "height": 273
    },
    "id": "dcpJUWSBwNjD",
    "outputId": "abc40d5c-36dc-4a43-f7b3-092d50031df8"
   },
   "outputs": [
    {
     "data": {
      "image/png": "[encoded data removed]",
      "text/plain": [
       "<Figure size 432x288 with 2 Axes>"
      ]
     },
     "metadata": {},
     "output_type": "display_data"
    }
   ],
   "source": [
    "df_cm_2 = pd.DataFrame(cf_2, range(3), range(3))\n",
    "sn.set(font_scale=1.4)\n",
    "sn.heatmap(df_cm_2, annot=True, annot_kws={\"size\": 16}, fmt='d')\n",
    "plt.show()"
   ]
  },
  {
   "cell_type": "markdown",
   "metadata": {
    "id": "T8clfX14wTiZ"
   },
   "source": [
    "**SO SÁNH HIỆU NĂNG CỦA MÔ HÌNH NAIVE BAYES ĐỐI VỚI HAI CÁCH MÃ HÓA CountVectorizer VÀ TfIdfVectorizer:**\n",
    "\n",
    "Nhìn chung mã hóa từ CountVectorizer cho F1 Score **lớn hơn** so với mã hóa từ TfIdfVectorizer.\n",
    "Từ ma trận nhầm lẫn ta có:\n",
    "Ở trường hợp 0(negative) và 2(positive) thì mã hóa từ CountVectorizer cho ít kết quả đúng hơn so với TfIdfVectorizer.\n",
    "\n",
    "**Từ đó suy ra được:** Mã hóa bằng CountVectorizer cho hiệu năng của mô hình Naive Bayes **tốt hơn** so với mã hóa bằng TfIdfVectorizer."
   ]
  },
  {
   "cell_type": "markdown",
   "metadata": {
    "id": "YbiBDsuEHdwh"
   },
   "source": [
    "**Bài 3*:** Sử dụng thêm mô hình Logistic Regression và SVM kết hợp với 2 phương pháp mã hoá CountVectorizer và TfIdfVectorizer để so sánh hiệu quả giữa các phương pháp. Độ đo đánh giá sử dụng: macro F1-score."
   ]
  },
  {
   "cell_type": "markdown",
   "metadata": {
    "id": "oJC2nUDmVKO7"
   },
   "source": [
    "**CountVectorizer**\n",
    "\n",
    "**Logistic Regression **"
   ]
  },
  {
   "cell_type": "code",
   "execution_count": 95,
   "metadata": {
    "colab": {
     "base_uri": "https://localhost:8080/"
    },
    "id": "IlMmWtYyH-jF",
    "outputId": "ca817525-881f-4c70-c563-268e6c9eaee7"
   },
   "outputs": [
    {
     "name": "stderr",
     "output_type": "stream",
     "text": [
      "/usr/local/lib/python3.7/dist-packages/sklearn/linear_model/_logistic.py:818: ConvergenceWarning: lbfgs failed to converge (status=1):\n",
      "STOP: TOTAL NO. of ITERATIONS REACHED LIMIT.\n",
      "\n",
      "Increase the number of iterations (max_iter) or scale the data as shown in:\n",
      "    https://scikit-learn.org/stable/modules/preprocessing.html\n",
      "Please also refer to the documentation for alternative solver options:\n",
      "    https://scikit-learn.org/stable/modules/linear_model.html#logistic-regression\n",
      "  extra_warning_msg=_LOGISTIC_SOLVER_CONVERGENCE_MSG,\n"
     ]
    },
    {
     "data": {
      "text/plain": [
       "LogisticRegression()"
      ]
     },
     "execution_count": 95,
     "metadata": {},
     "output_type": "execute_result"
    }
   ],
   "source": [
    "from sklearn.linear_model import LogisticRegression\n",
    "LogReg1 = LogisticRegression()\n",
    "LogReg1.fit(X_train_encoded,y_train)"
   ]
  },
  {
   "cell_type": "code",
   "execution_count": 97,
   "metadata": {
    "id": "5uOqPbmYHdCP"
   },
   "outputs": [],
   "source": [
    "y_pred_LogReg1 = LogReg1.predict(X_test_encoded)"
   ]
  },
  {
   "cell_type": "code",
   "execution_count": 98,
   "metadata": {
    "colab": {
     "base_uri": "https://localhost:8080/"
    },
    "id": "dNNEoM-NMMnI",
    "outputId": "2d71b7c6-1016-4e63-95ee-aa8c3f4b43cc"
   },
   "outputs": [
    {
     "name": "stdout",
     "output_type": "stream",
     "text": [
      "86.29185091598231\n",
      "62.33059320033595\n"
     ]
    }
   ],
   "source": [
    "from sklearn.metrics import accuracy_score, f1_score\n",
    "print(accuracy_score(y_test, y_pred_LogReg1)*100)\n",
    "print(f1_score(y_test, y_pred_LogReg1, average='macro')*100)"
   ]
  },
  {
   "cell_type": "code",
   "execution_count": 99,
   "metadata": {
    "colab": {
     "base_uri": "https://localhost:8080/",
     "height": 273
    },
    "id": "tUSIsuebMRnc",
    "outputId": "ed9a84ea-8c6a-4016-a108-7c1fdc135475"
   },
   "outputs": [
    {
     "data": {
      "image/png": "[encoded data removed]",
      "text/plain": [
       "<Figure size 432x288 with 2 Axes>"
      ]
     },
     "metadata": {},
     "output_type": "display_data"
    }
   ],
   "source": [
    "from sklearn.metrics import confusion_matrix\n",
    "cf = confusion_matrix(y_test, y_pred_LogReg1)\n",
    "import seaborn as sn\n",
    "import pandas as pd\n",
    "import numpy as np\n",
    "import matplotlib.pyplot as plt\n",
    "df_cm = pd.DataFrame(cf, range(3), range(3))\n",
    "sn.set(font_scale=1.4)\n",
    "sn.heatmap(df_cm, annot=True, annot_kws={\"size\": 16}, fmt='d')\n",
    "plt.show()"
   ]
  },
  {
   "cell_type": "markdown",
   "metadata": {
    "id": "LwpNetTUVfXn"
   },
   "source": [
    "**CountVectorizer**\n",
    "\n",
    "**SVM**"
   ]
  },
  {
   "cell_type": "code",
   "execution_count": 100,
   "metadata": {
    "id": "6LsuDHeEMXTb"
   },
   "outputs": [],
   "source": [
    "from sklearn.svm import SVC"
   ]
  },
  {
   "cell_type": "code",
   "execution_count": 102,
   "metadata": {
    "colab": {
     "base_uri": "https://localhost:8080/"
    },
    "id": "kMDcrdvdVlhB",
    "outputId": "ae81cc00-244b-4b6f-98fa-50d964c05584"
   },
   "outputs": [
    {
     "data": {
      "text/plain": [
       "SVC(kernel='linear', probability=True)"
      ]
     },
     "execution_count": 102,
     "metadata": {},
     "output_type": "execute_result"
    }
   ],
   "source": [
    "SVModel1=SVC(kernel='linear', probability = True)\n",
    "SVModel1.fit(X_train_encoded,y_train)"
   ]
  },
  {
   "cell_type": "code",
   "execution_count": 103,
   "metadata": {
    "id": "e1kCQtMFVoi8"
   },
   "outputs": [],
   "source": [
    "y_pred_SVM1 = SVModel1.predict(X_test_encoded)"
   ]
  },
  {
   "cell_type": "code",
   "execution_count": 104,
   "metadata": {
    "colab": {
     "base_uri": "https://localhost:8080/"
    },
    "id": "gIArqFkOVwKR",
    "outputId": "6cd75b58-f2be-439c-da9b-6975e7ebfe01"
   },
   "outputs": [
    {
     "name": "stdout",
     "output_type": "stream",
     "text": [
      "87.52368919772584\n",
      "64.7353043608671\n"
     ]
    }
   ],
   "source": [
    "from sklearn.metrics import accuracy_score, f1_score\n",
    "print(accuracy_score(y_test, y_pred_SVM1)*100)\n",
    "print(f1_score(y_test, y_pred_SVM1, average='macro')*100)"
   ]
  },
  {
   "cell_type": "code",
   "execution_count": 105,
   "metadata": {
    "colab": {
     "base_uri": "https://localhost:8080/",
     "height": 273
    },
    "id": "A4BTfbZfVyO4",
    "outputId": "b5391cb5-3bae-4f5c-feea-c252a31a95b7"
   },
   "outputs": [
    {
     "data": {
      "image/png": "[encoded data removed]",
      "text/plain": [
       "<Figure size 432x288 with 2 Axes>"
      ]
     },
     "metadata": {},
     "output_type": "display_data"
    }
   ],
   "source": [
    "from sklearn.metrics import confusion_matrix\n",
    "cf = confusion_matrix(y_test, y_pred_SVM1)\n",
    "import seaborn as sn\n",
    "import pandas as pd\n",
    "import numpy as np\n",
    "import matplotlib.pyplot as plt\n",
    "df_cm = pd.DataFrame(cf, range(3), range(3))\n",
    "sn.set(font_scale=1.4)\n",
    "sn.heatmap(df_cm, annot=True, annot_kws={\"size\": 16}, fmt='d')\n",
    "plt.show()"
   ]
  },
  {
   "cell_type": "markdown",
   "metadata": {
    "id": "x91WfhkIV1Lr"
   },
   "source": [
    "**Nhận xét:** Đối với mã hóa CountVectorizer\n",
    "\n",
    "Mô hình cho f1-score tốt nhất là SVM(64.73), tiếp theo là LogisticRegression(62.33), cuối cùng là Navie Bayes (61.26)"
   ]
  },
  {
   "cell_type": "markdown",
   "metadata": {
    "id": "8_5iE_2vWPCB"
   },
   "source": [
    "**TfidfVectorizer**\n",
    "\n",
    "LogistcRegression: **văn bản in đậm**"
   ]
  },
  {
   "cell_type": "code",
   "execution_count": 107,
   "metadata": {
    "colab": {
     "base_uri": "https://localhost:8080/"
    },
    "id": "aLFjErHTWUGE",
    "outputId": "279b903e-cb40-474d-e936-ccc68f461099"
   },
   "outputs": [
    {
     "name": "stderr",
     "output_type": "stream",
     "text": [
      "/usr/local/lib/python3.7/dist-packages/sklearn/linear_model/_logistic.py:818: ConvergenceWarning: lbfgs failed to converge (status=1):\n",
      "STOP: TOTAL NO. of ITERATIONS REACHED LIMIT.\n",
      "\n",
      "Increase the number of iterations (max_iter) or scale the data as shown in:\n",
      "    https://scikit-learn.org/stable/modules/preprocessing.html\n",
      "Please also refer to the documentation for alternative solver options:\n",
      "    https://scikit-learn.org/stable/modules/linear_model.html#logistic-regression\n",
      "  extra_warning_msg=_LOGISTIC_SOLVER_CONVERGENCE_MSG,\n"
     ]
    },
    {
     "data": {
      "text/plain": [
       "LogisticRegression()"
      ]
     },
     "execution_count": 107,
     "metadata": {},
     "output_type": "execute_result"
    }
   ],
   "source": [
    "from sklearn.linear_model import LogisticRegression\n",
    "LogReg2 = LogisticRegression()\n",
    "LogReg2.fit(X_train_encoded_2,y_train)"
   ]
  },
  {
   "cell_type": "code",
   "execution_count": 109,
   "metadata": {
    "id": "1zjJ9YXOWYyh"
   },
   "outputs": [],
   "source": [
    "y_pred_LogReg2 = LogReg2.predict(X_test_encoded_2)"
   ]
  },
  {
   "cell_type": "code",
   "execution_count": 110,
   "metadata": {
    "colab": {
     "base_uri": "https://localhost:8080/"
    },
    "id": "BVDqY5GHWehQ",
    "outputId": "3bcf8d40-a091-473e-a475-f71996a6e0df"
   },
   "outputs": [
    {
     "name": "stdout",
     "output_type": "stream",
     "text": [
      "86.29185091598231\n",
      "62.33059320033595\n"
     ]
    }
   ],
   "source": [
    "from sklearn.metrics import accuracy_score, f1_score\n",
    "print(accuracy_score(y_test, y_pred_LogReg2)*100)\n",
    "print(f1_score(y_test, y_pred_LogReg2, average='macro')*100)"
   ]
  },
  {
   "cell_type": "code",
   "execution_count": 111,
   "metadata": {
    "colab": {
     "base_uri": "https://localhost:8080/",
     "height": 273
    },
    "id": "3ZBCbO8PWhqf",
    "outputId": "3792393b-71ab-4b5c-c133-2bf4f0291a77"
   },
   "outputs": [
    {
     "data": {
      "image/png": "[encoded data removed]",
      "text/plain": [
       "<Figure size 432x288 with 2 Axes>"
      ]
     },
     "metadata": {},
     "output_type": "display_data"
    }
   ],
   "source": [
    "from sklearn.metrics import confusion_matrix\n",
    "cf = confusion_matrix(y_test, y_pred_LogReg2)\n",
    "import seaborn as sn\n",
    "import pandas as pd\n",
    "import numpy as np\n",
    "import matplotlib.pyplot as plt\n",
    "df_cm = pd.DataFrame(cf, range(3), range(3))\n",
    "sn.set(font_scale=1.4)\n",
    "sn.heatmap(df_cm, annot=True, annot_kws={\"size\": 16}, fmt='d')\n",
    "plt.show()"
   ]
  },
  {
   "cell_type": "markdown",
   "metadata": {
    "id": "OXp97FU5SxmU"
   },
   "source": [
    "**TfidfVectorizer**\n",
    "\n",
    "**SVM**"
   ]
  },
  {
   "cell_type": "code",
   "execution_count": 87,
   "metadata": {
    "colab": {
     "base_uri": "https://localhost:8080/"
    },
    "id": "ugm8o0tvS1OL",
    "outputId": "f3c605c4-beff-4b9e-bf16-27e9c9148a31"
   },
   "outputs": [
    {
     "data": {
      "text/plain": [
       "SVC(kernel='linear', probability=True)"
      ]
     },
     "execution_count": 87,
     "metadata": {},
     "output_type": "execute_result"
    }
   ],
   "source": [
    "from sklearn.svm import SVC\n",
    "SVModel2=SVC(kernel='linear', probability = True)\n",
    "SVModel2.fit(X_train_encoded_2,y_train)"
   ]
  },
  {
   "cell_type": "code",
   "execution_count": 89,
   "metadata": {
    "id": "-puNxQwaMrFp"
   },
   "outputs": [],
   "source": [
    "y_pred_SVM2 = SVModel2.predict(X_test_encoded_2)"
   ]
  },
  {
   "cell_type": "code",
   "execution_count": 90,
   "metadata": {
    "colab": {
     "base_uri": "https://localhost:8080/"
    },
    "id": "QgbpiSc6MsWM",
    "outputId": "64dc15d7-aad3-48f8-997d-68d530909730"
   },
   "outputs": [
    {
     "name": "stdout",
     "output_type": "stream",
     "text": [
      "87.52368919772584\n",
      "64.7353043608671\n"
     ]
    }
   ],
   "source": [
    "from sklearn.metrics import accuracy_score, f1_score\n",
    "print(accuracy_score(y_test, y_pred_SVM2)*100)\n",
    "print(f1_score(y_test, y_pred_SVM2, average='macro')*100)"
   ]
  },
  {
   "cell_type": "code",
   "execution_count": 91,
   "metadata": {
    "colab": {
     "base_uri": "https://localhost:8080/",
     "height": 273
    },
    "id": "4H6IC2JiT6Dx",
    "outputId": "d543340c-6d39-469d-94b9-5cdd32e7c8fb"
   },
   "outputs": [
    {
     "data": {
      "image/png": "[encoded data removed]",
      "text/plain": [
       "<Figure size 432x288 with 2 Axes>"
      ]
     },
     "metadata": {},
     "output_type": "display_data"
    }
   ],
   "source": [
    "from sklearn.metrics import confusion_matrix\n",
    "cf = confusion_matrix(y_test, y_pred_SVM2)\n",
    "import seaborn as sn\n",
    "import pandas as pd\n",
    "import numpy as np\n",
    "import matplotlib.pyplot as plt\n",
    "df_cm = pd.DataFrame(cf, range(3), range(3))\n",
    "sn.set(font_scale=1.4)\n",
    "sn.heatmap(df_cm, annot=True, annot_kws={\"size\": 16}, fmt='d')\n",
    "plt.show()"
   ]
  },
  {
   "cell_type": "markdown",
   "metadata": {
    "id": "iiX8ayEtT8Gz"
   },
   "source": [
    "**Nhận xét:** Đối với mã hóa TfidfVectorizer\n",
    "\n",
    "Mô hình cho f1-score tốt nhất là SVM(64.74), tiếp theo là LogisticRegression(62.33), cuối cùng là Navie Bayes(59.1).\n",
    "**Kết luận:** Với mô hình SVM(Support Vector Machine) và phương pháp CountVectorizer thì cho ra hiệu năng mô hình cao nhất."
   ]
  }
 ],
 "metadata": {
  "colab": {
   "name": "20522010_Nguyễn Minh Tiến_TH3.ipynb",
   "provenance": []
  },
  "kernelspec": {
   "display_name": "Python 3 (ipykernel)",
   "language": "python",
   "name": "python3"
  },
  "language_info": {
   "codemirror_mode": {
    "name": "ipython",
    "version": 3
   },
   "file_extension": ".py",
   "mimetype": "text/x-python",
   "name": "python",
   "nbconvert_exporter": "python",
   "pygments_lexer": "ipython3",
   "version": "3.9.7"
  }
 },
 "nbformat": 4,
 "nbformat_minor": 1
}
