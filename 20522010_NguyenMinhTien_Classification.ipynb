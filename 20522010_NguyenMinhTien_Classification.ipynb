{
 "cells": [
  {
   "cell_type": "markdown",
   "metadata": {
    "id": "CMKcPkVgnM3-"
   },
   "source": [
    "#Bài 1: Thống kê số lượng nhãn trên tập trainning và tập test. Vẽ biểu đồ phân bố nhãn barplot"
   ]
  },
  {
   "cell_type": "code",
   "execution_count": 40,
   "metadata": {
    "id": "2EMk6DOXtbIZ"
   },
   "outputs": [],
   "source": [
    "#Cài bộ dữ liệu Iris\n",
    "from sklearn.datasets import load_iris\n",
    "iris = load_iris()"
   ]
  },
  {
   "cell_type": "code",
   "execution_count": 41,
   "metadata": {
    "id": "Wo1LhgwmnlRt"
   },
   "outputs": [],
   "source": [
    "#Lọc thuộc tính (sepal_leghth, sepal_width)\n",
    "X = iris.data[:, :2]\n",
    "y = iris.target"
   ]
  },
  {
   "cell_type": "code",
   "execution_count": 42,
   "metadata": {
    "colab": {
     "base_uri": "https://localhost:8080/"
    },
    "id": "a0AyquCerDdg",
    "outputId": "b0ea5f75-39af-4d82-caf8-77af6c0b06ab"
   },
   "outputs": [
    {
     "data": {
      "text/plain": [
       "(150,)"
      ]
     },
     "execution_count": 42,
     "metadata": {},
     "output_type": "execute_result"
    }
   ],
   "source": [
    "#Data shape\n",
    "X.shape \n",
    "y.shape"
   ]
  },
  {
   "cell_type": "code",
   "execution_count": 43,
   "metadata": {
    "id": "B37RaExarrLA"
   },
   "outputs": [],
   "source": [
    "#Phân chia dữ liệu\n",
    "from sklearn.model_selection import train_test_split \n",
    "X_train, X_test, y_train, y_test = train_test_split(X, y, test_size = 0.2)"
   ]
  },
  {
   "cell_type": "code",
   "execution_count": 44,
   "metadata": {
    "colab": {
     "base_uri": "https://localhost:8080/"
    },
    "id": "0TMd0oynH9uH",
    "outputId": "742d6063-ab84-401d-964b-7daa50fd2b6a"
   },
   "outputs": [
    {
     "name": "stdout",
     "output_type": "stream",
     "text": [
      "Training size: 120\n",
      "Test size    : 30\n"
     ]
    }
   ],
   "source": [
    "print(\"Training size: %d\" %len(y_train))\n",
    "print(\"Test size    : %d\" %len(y_test))"
   ]
  },
  {
   "cell_type": "markdown",
   "metadata": {
    "id": "t0bNBELLwVXM"
   },
   "source": [
    "**Vẽ biểu đồ barplot**"
   ]
  },
  {
   "cell_type": "code",
   "execution_count": 45,
   "metadata": {
    "id": "s4gM_2zdwPZQ"
   },
   "outputs": [],
   "source": [
    "#Import thư viện\n",
    "import pandas as pd\n",
    "import matplotlib.pyplot as plt\n",
    "import seaborn as sns"
   ]
  },
  {
   "cell_type": "code",
   "execution_count": 46,
   "metadata": {
    "id": "x6992fyVyIOL"
   },
   "outputs": [],
   "source": [
    "#Tạo data frame cho tập dữ train và tập test\n",
    "df_train = pd.DataFrame(y_train)\n",
    "df_test = pd.DataFrame(y_test)"
   ]
  },
  {
   "cell_type": "code",
   "execution_count": 47,
   "metadata": {
    "colab": {
     "base_uri": "https://localhost:8080/"
    },
    "id": "lKM9eoQiy-a9",
    "outputId": "f60d1f19-9c88-4675-f3a2-b5d2b6df2812"
   },
   "outputs": [
    {
     "data": {
      "text/plain": [
       "0    42\n",
       "1    41\n",
       "2    37\n",
       "Name: 0, dtype: int64"
      ]
     },
     "execution_count": 47,
     "metadata": {},
     "output_type": "execute_result"
    }
   ],
   "source": [
    "#Thống kê số lượng nhãn trong tập train\n",
    "count_train = df_train[0].value_counts()\n",
    "count_train"
   ]
  },
  {
   "cell_type": "code",
   "execution_count": 48,
   "metadata": {
    "colab": {
     "base_uri": "https://localhost:8080/"
    },
    "id": "WQCSLMOfzYBN",
    "outputId": "f162419c-df30-4f58-8e4c-770f22f5a500"
   },
   "outputs": [
    {
     "data": {
      "text/plain": [
       "2    13\n",
       "1     9\n",
       "0     8\n",
       "Name: 0, dtype: int64"
      ]
     },
     "execution_count": 48,
     "metadata": {},
     "output_type": "execute_result"
    }
   ],
   "source": [
    "#Thống lê số lượng nhãn tong tập test\n",
    "count_test = df_test[0].value_counts()\n",
    "count_test"
   ]
  },
  {
   "cell_type": "code",
   "execution_count": 49,
   "metadata": {
    "colab": {
     "base_uri": "https://localhost:8080/",
     "height": 324
    },
    "id": "gEzL48bNz7rw",
    "outputId": "09657715-a132-4224-dd43-0cb017e32dd9"
   },
   "outputs": [
    {
     "name": "stderr",
     "output_type": "stream",
     "text": [
      "/usr/local/lib/python3.7/dist-packages/seaborn/_decorators.py:43: FutureWarning: Pass the following variables as keyword args: x, y. From version 0.12, the only valid positional argument will be `data`, and passing other arguments without an explicit keyword will result in an error or misinterpretation.\n",
      "  FutureWarning\n"
     ]
    },
    {
     "data": {
      "image/png": "[encoded data removed]",
      "text/plain": [
       "<Figure size 432x288 with 1 Axes>"
      ]
     },
     "metadata": {},
     "output_type": "display_data"
    }
   ],
   "source": [
    "#Vẽ biểu đồ phân bố nhãn tập train\n",
    "sns.set(style = \"whitegrid\", color_codes = True)\n",
    "sns.barplot([\"Setosa\", \"Versicolour\", \"Virginica\"], [count_train[0], count_train[1], count_train[2]])\n",
    "plt.show()"
   ]
  },
  {
   "cell_type": "code",
   "execution_count": 50,
   "metadata": {
    "colab": {
     "base_uri": "https://localhost:8080/",
     "height": 324
    },
    "id": "7437OJKB3etd",
    "outputId": "f45e80dd-06f0-4e76-fa4e-7ad95891fba3"
   },
   "outputs": [
    {
     "name": "stderr",
     "output_type": "stream",
     "text": [
      "/usr/local/lib/python3.7/dist-packages/seaborn/_decorators.py:43: FutureWarning: Pass the following variables as keyword args: x, y. From version 0.12, the only valid positional argument will be `data`, and passing other arguments without an explicit keyword will result in an error or misinterpretation.\n",
      "  FutureWarning\n"
     ]
    },
    {
     "data": {
      "image/png": "[encoded data removed]",
      "text/plain": [
       "<Figure size 432x288 with 1 Axes>"
      ]
     },
     "metadata": {},
     "output_type": "display_data"
    }
   ],
   "source": [
    "#Vẽ biểu đồ phân bố nhãn tập test\n",
    "sns.set(style = \"whitegrid\", color_codes = True)\n",
    "sns.barplot([\"Setosa\", \"Versicolour\", \"Virginica\"], [count_test[0], count_test[1], count_test[2]])\n",
    "plt.show()"
   ]
  },
  {
   "cell_type": "markdown",
   "metadata": {
    "id": "8Ao7ATSQ3wNy"
   },
   "source": [
    "#Bài 2: Huấn luyện mô hình Logistic Regression"
   ]
  },
  {
   "cell_type": "code",
   "execution_count": 51,
   "metadata": {
    "colab": {
     "base_uri": "https://localhost:8080/"
    },
    "id": "e_6_cn2dsPUO",
    "outputId": "ac7e4c29-3ba9-49ce-b2b5-129c231ef8f1"
   },
   "outputs": [
    {
     "data": {
      "text/plain": [
       "LogisticRegression()"
      ]
     },
     "execution_count": 51,
     "metadata": {},
     "output_type": "execute_result"
    }
   ],
   "source": [
    "#Cài Linear Regression để dự đoán\n",
    "from sklearn.linear_model import LogisticRegression \n",
    "model = LogisticRegression()\n",
    "model.fit(X_train, y_train)"
   ]
  },
  {
   "cell_type": "code",
   "execution_count": 52,
   "metadata": {
    "id": "gGPysEvDs8Yq"
   },
   "outputs": [],
   "source": [
    "y_pred = model.predict(X_test)"
   ]
  },
  {
   "cell_type": "code",
   "execution_count": 53,
   "metadata": {
    "colab": {
     "base_uri": "https://localhost:8080/"
    },
    "id": "gmY1WKunia_D",
    "outputId": "88f301be-3e0a-4071-ea62-7f8b7f918ffd"
   },
   "outputs": [
    {
     "name": "stdout",
     "output_type": "stream",
     "text": [
      "[1 2 0 2 0 1 2 0 1 1 1 0 2 0 2 2 1 2 2 2 1 0 1 1 2 0 0 2 2 2]\n"
     ]
    }
   ],
   "source": [
    "print(y_test)"
   ]
  },
  {
   "cell_type": "code",
   "execution_count": 54,
   "metadata": {
    "colab": {
     "base_uri": "https://localhost:8080/"
    },
    "id": "owjCefvjtBEV",
    "outputId": "9c5dac91-542c-470d-df63-dd4555c73eaa"
   },
   "outputs": [
    {
     "name": "stdout",
     "output_type": "stream",
     "text": [
      "[2 1 0 2 0 2 1 0 1 1 1 0 1 0 2 2 1 2 2 2 1 0 1 2 1 0 0 2 2 2]\n"
     ]
    }
   ],
   "source": [
    "print(y_pred)"
   ]
  },
  {
   "cell_type": "markdown",
   "metadata": {
    "id": "qv5YBn424FGy"
   },
   "source": [
    "##Bài 3:"
   ]
  },
  {
   "cell_type": "markdown",
   "metadata": {
    "id": "HqA-sd6A4P8d"
   },
   "source": [
    "**Huấn luyện mô hình KNN trên bộ dữ liệu**"
   ]
  },
  {
   "cell_type": "code",
   "execution_count": 55,
   "metadata": {
    "id": "wWw86rlA4p3s"
   },
   "outputs": [],
   "source": [
    "#Import lib\n",
    "import numpy as np\n",
    "from sklearn import neighbors"
   ]
  },
  {
   "cell_type": "code",
   "execution_count": 56,
   "metadata": {
    "colab": {
     "base_uri": "https://localhost:8080/"
    },
    "id": "xAJKOkxyAJXf",
    "outputId": "d4d63056-35be-47e6-cbb1-57913c7cf7c3"
   },
   "outputs": [
    {
     "name": "stdout",
     "output_type": "stream",
     "text": [
      "Print results for 20 test data points:\n",
      "Predicted labels:  [2 0 1 0 2 2 2 2 2 2 1 0 1 2 1 0 0 1 2 2]\n",
      "Ground truth    :  [1 0 2 0 2 2 1 2 2 2 1 0 1 1 2 0 0 2 2 2]\n"
     ]
    }
   ],
   "source": [
    "#K=1\n",
    "knn = neighbors.KNeighborsClassifier(n_neighbors = 1, p = 2)\n",
    "knn.fit(X_train, y_train)\n",
    "y_pred_1 = knn.predict(X_test)\n",
    "\n",
    "print(\"Print results for 20 test data points:\")\n",
    "print(\"Predicted labels: \", y_pred_1[10:30])\n",
    "print(\"Ground truth    : \", y_test[10:30])"
   ]
  },
  {
   "cell_type": "code",
   "execution_count": 57,
   "metadata": {
    "colab": {
     "base_uri": "https://localhost:8080/"
    },
    "id": "lhEqsCgnAJjz",
    "outputId": "7a256213-bc46-4811-cbe0-1a73e79b4a56"
   },
   "outputs": [
    {
     "name": "stdout",
     "output_type": "stream",
     "text": [
      "Print results for 20 test data points:\n",
      "Predicted labels:  [1 0 1 0 2 2 1 2 2 2 1 0 1 2 1 0 0 1 2 2]\n",
      "Ground truth    :  [1 0 2 0 2 2 1 2 2 2 1 0 1 1 2 0 0 2 2 2]\n"
     ]
    }
   ],
   "source": [
    "#Major_voting: K=10\n",
    "knn = neighbors.KNeighborsClassifier(n_neighbors = 10, p = 2)\n",
    "knn.fit(X_train, y_train)\n",
    "y_pred_10 = knn.predict(X_test)\n",
    "\n",
    "print(\"Print results for 20 test data points:\")\n",
    "print(\"Predicted labels: \", y_pred_10[10:30])\n",
    "print(\"Ground truth    : \", y_test[10:30])"
   ]
  },
  {
   "cell_type": "code",
   "execution_count": 58,
   "metadata": {
    "colab": {
     "base_uri": "https://localhost:8080/"
    },
    "id": "lPUl7imHKkzM",
    "outputId": "cc5f323e-5dd8-41cf-89b0-e018e40e8b88"
   },
   "outputs": [
    {
     "name": "stdout",
     "output_type": "stream",
     "text": [
      "Print results for 20 test data points:\n",
      "Predicted labels:  [2 0 1 0 2 2 1 2 2 2 1 0 1 2 1 0 0 1 2 2]\n",
      "Ground truth    :  [1 0 2 0 2 2 1 2 2 2 1 0 1 1 2 0 0 2 2 2]\n"
     ]
    }
   ],
   "source": [
    "#K=10, weighted\n",
    "knn = neighbors.KNeighborsClassifier(n_neighbors = 10, p = 2, weights = 'distance')\n",
    "knn.fit(X_train, y_train)\n",
    "y_pred_10_weighted = knn.predict(X_test)\n",
    "\n",
    "print(\"Print results for 20 test data points:\")\n",
    "print(\"Predicted labels: \", y_pred_10_weighted[10:30])\n",
    "print(\"Ground truth    : \", y_test[10:30])"
   ]
  },
  {
   "cell_type": "code",
   "execution_count": 59,
   "metadata": {
    "colab": {
     "base_uri": "https://localhost:8080/"
    },
    "id": "HXR4vSbrocAZ",
    "outputId": "f46afc72-b720-4eeb-c298-cf84b6288fc3"
   },
   "outputs": [
    {
     "name": "stdout",
     "output_type": "stream",
     "text": [
      "Print results for 20 test data points:\n",
      "Predicted labels:  [1 0 1 0 2 2 1 2 2 2 1 0 1 2 1 0 0 1 2 2]\n",
      "Ground truth    :  [1 0 2 0 2 2 1 2 2 2 1 0 1 1 2 0 0 2 2 2]\n"
     ]
    }
   ],
   "source": [
    "#K=10, weighted uniform\n",
    "knn = neighbors.KNeighborsClassifier(n_neighbors = 10, p = 2, weights = 'uniform')\n",
    "knn.fit(X_train, y_train)\n",
    "y_pred_10_weight_uniform = knn.predict(X_test)\n",
    "\n",
    "print(\"Print results for 20 test data points:\")\n",
    "print(\"Predicted labels: \", y_pred_10_weight_uniform[10:30])\n",
    "print(\"Ground truth    : \", y_test[10:30])"
   ]
  },
  {
   "cell_type": "markdown",
   "metadata": {
    "id": "LuRl8XLt4Ylr"
   },
   "source": [
    "**So sánh độ chính xác giữa KNN model và Logistic Regression**"
   ]
  },
  {
   "cell_type": "code",
   "execution_count": 60,
   "metadata": {
    "id": "IUBkAT6gM0ku"
   },
   "outputs": [],
   "source": [
    "from sklearn.metrics import accuracy_score"
   ]
  },
  {
   "cell_type": "code",
   "execution_count": 61,
   "metadata": {
    "colab": {
     "base_uri": "https://localhost:8080/"
    },
    "id": "Altw5-V1MY2S",
    "outputId": "053987d3-a381-46cb-fa29-653fe49f7b60"
   },
   "outputs": [
    {
     "name": "stdout",
     "output_type": "stream",
     "text": [
      "Accuracy of Logistic Regression: 76.67 %\n",
      "Accuracy of 1NN: 76.67 %\n",
      "Accuracy of 10NN: 83.33 %\n",
      "Accuracy of 10NN weighted: 80.00 %\n",
      "Accuracy of 10NN weighted uniform: 83.33 %\n"
     ]
    }
   ],
   "source": [
    "print(\"Accuracy of Logistic Regression: %.2f %%\" %(100*accuracy_score(y_test, y_pred)))\n",
    "print(\"Accuracy of 1NN: %.2f %%\" %(100*accuracy_score(y_test, y_pred_1)))\n",
    "print(\"Accuracy of 10NN: %.2f %%\" %(100*accuracy_score(y_test, y_pred_10)))\n",
    "print(\"Accuracy of 10NN weighted: %.2f %%\" %(100*accuracy_score(y_test, y_pred_10_weighted)))\n",
    "print(\"Accuracy of 10NN weighted uniform: %.2f %%\" %(100*accuracy_score(y_test, y_pred_10_weight_uniform)))"
   ]
  },
  {
   "cell_type": "markdown",
   "metadata": {
    "id": "18z2cImWOE2A"
   },
   "source": [
    "#Bài 4"
   ]
  },
  {
   "cell_type": "markdown",
   "metadata": {
    "id": "2BV_PcHYOLOI"
   },
   "source": [
    "**Đánh giá 2 mô hình vừa xây dựng trên 3 độ đo sau: precision_score, recall_score \n",
    "và f1_score sử dụng macro average.**"
   ]
  },
  {
   "cell_type": "code",
   "execution_count": 62,
   "metadata": {
    "id": "gFyX5E-BOIwg"
   },
   "outputs": [],
   "source": [
    "from sklearn.metrics import precision_recall_fscore_support\n",
    "\n",
    "score_logistic_regression = precision_recall_fscore_support(y_test, y_pred, average = 'macro')\n",
    "score_knn_1 = precision_recall_fscore_support(y_test, y_pred_1, average = 'macro')\n",
    "score_knn_10 = precision_recall_fscore_support(y_test, y_pred_10, average = 'macro')\n",
    "score_knn_10_weighted = precision_recall_fscore_support(y_test, y_pred_10_weighted, average = 'macro')"
   ]
  },
  {
   "cell_type": "code",
   "execution_count": 63,
   "metadata": {
    "id": "ZryXyRGIOYoN"
   },
   "outputs": [],
   "source": [
    "score_logistic_regression = np.asarray(score_logistic_regression)\n",
    "score_knn_1 = np.asarray(score_knn_1).reshape(-1,1)\n",
    "score_knn_10 = np.asarray(score_knn_10).reshape(-1,1)\n",
    "score_knn_10_weighted = np.asarray(score_knn_10_weighted).reshape(-1,1)"
   ]
  },
  {
   "cell_type": "code",
   "execution_count": 64,
   "metadata": {
    "colab": {
     "base_uri": "https://localhost:8080/",
     "height": 170
    },
    "id": "ByezmpBcOcK_",
    "outputId": "b2c6a109-8925-4870-c155-97000b389758"
   },
   "outputs": [
    {
     "data": {
      "text/html": [
       "\n",
       "  <div id=\"df-32b8ed6d-ffff-451c-a85f-f342bd68e3cd\">\n",
       "    <div class=\"colab-df-container\">\n",
       "      <div>\n",
       "<style scoped>\n",
       "    .dataframe tbody tr th:only-of-type {\n",
       "        vertical-align: middle;\n",
       "    }\n",
       "\n",
       "    .dataframe tbody tr th {\n",
       "        vertical-align: top;\n",
       "    }\n",
       "\n",
       "    .dataframe thead th {\n",
       "        text-align: right;\n",
       "    }\n",
       "</style>\n",
       "<table border=\"1\" class=\"dataframe\">\n",
       "  <thead>\n",
       "    <tr style=\"text-align: right;\">\n",
       "      <th></th>\n",
       "      <th>Logistic Regression</th>\n",
       "      <th>KNN_1</th>\n",
       "      <th>KNN_10</th>\n",
       "      <th>KNN_10_weighted</th>\n",
       "    </tr>\n",
       "  </thead>\n",
       "  <tbody>\n",
       "    <tr>\n",
       "      <th>precision</th>\n",
       "      <td>0.783333</td>\n",
       "      <td>0.779762</td>\n",
       "      <td>0.844444</td>\n",
       "      <td>0.811966</td>\n",
       "    </tr>\n",
       "    <tr>\n",
       "      <th>recall</th>\n",
       "      <td>0.786325</td>\n",
       "      <td>0.774929</td>\n",
       "      <td>0.849003</td>\n",
       "      <td>0.811966</td>\n",
       "    </tr>\n",
       "    <tr>\n",
       "      <th>F1-macro</th>\n",
       "      <td>0.78386</td>\n",
       "      <td>0.776325</td>\n",
       "      <td>0.845614</td>\n",
       "      <td>0.811966</td>\n",
       "    </tr>\n",
       "  </tbody>\n",
       "</table>\n",
       "</div>\n",
       "      <button class=\"colab-df-convert\" onclick=\"convertToInteractive('df-32b8ed6d-ffff-451c-a85f-f342bd68e3cd')\"\n",
       "              title=\"Convert this dataframe to an interactive table.\"\n",
       "              style=\"display:none;\">\n",
       "        \n",
       "  <svg xmlns=\"http://www.w3.org/2000/svg\" height=\"24px\"viewBox=\"0 0 24 24\"\n",
       "       width=\"24px\">\n",
       "    <path d=\"M0 0h24v24H0V0z\" fill=\"none\"/>\n",
       "    <path d=\"M18.56 5.44l.94 2.06.94-2.06 2.06-.94-2.06-.94-.94-2.06-.94 2.06-2.06.94zm-11 1L8.5 8.5l.94-2.06 2.06-.94-2.06-.94L8.5 2.5l-.94 2.06-2.06.94zm10 10l.94 2.06.94-2.06 2.06-.94-2.06-.94-.94-2.06-.94 2.06-2.06.94z\"/><path d=\"M17.41 7.96l-1.37-1.37c-.4-.4-.92-.59-1.43-.59-.52 0-1.04.2-1.43.59L10.3 9.45l-7.72 7.72c-.78.78-.78 2.05 0 2.83L4 21.41c.39.39.9.59 1.41.59.51 0 1.02-.2 1.41-.59l7.78-7.78 2.81-2.81c.8-.78.8-2.07 0-2.86zM5.41 20L4 18.59l7.72-7.72 1.47 1.35L5.41 20z\"/>\n",
       "  </svg>\n",
       "      </button>\n",
       "      \n",
       "  <style>\n",
       "    .colab-df-container {\n",
       "      display:flex;\n",
       "      flex-wrap:wrap;\n",
       "      gap: 12px;\n",
       "    }\n",
       "\n",
       "    .colab-df-convert {\n",
       "      background-color: #E8F0FE;\n",
       "      border: none;\n",
       "      border-radius: 50%;\n",
       "      cursor: pointer;\n",
       "      display: none;\n",
       "      fill: #1967D2;\n",
       "      height: 32px;\n",
       "      padding: 0 0 0 0;\n",
       "      width: 32px;\n",
       "    }\n",
       "\n",
       "    .colab-df-convert:hover {\n",
       "      background-color: #E2EBFA;\n",
       "      box-shadow: 0px 1px 2px rgba(60, 64, 67, 0.3), 0px 1px 3px 1px rgba(60, 64, 67, 0.15);\n",
       "      fill: #174EA6;\n",
       "    }\n",
       "\n",
       "    [theme=dark] .colab-df-convert {\n",
       "      background-color: #3B4455;\n",
       "      fill: #D2E3FC;\n",
       "    }\n",
       "\n",
       "    [theme=dark] .colab-df-convert:hover {\n",
       "      background-color: #434B5C;\n",
       "      box-shadow: 0px 1px 3px 1px rgba(0, 0, 0, 0.15);\n",
       "      filter: drop-shadow(0px 1px 2px rgba(0, 0, 0, 0.3));\n",
       "      fill: #FFFFFF;\n",
       "    }\n",
       "  </style>\n",
       "\n",
       "      <script>\n",
       "        const buttonEl =\n",
       "          document.querySelector('#df-32b8ed6d-ffff-451c-a85f-f342bd68e3cd button.colab-df-convert');\n",
       "        buttonEl.style.display =\n",
       "          google.colab.kernel.accessAllowed ? 'block' : 'none';\n",
       "\n",
       "        async function convertToInteractive(key) {\n",
       "          const element = document.querySelector('#df-32b8ed6d-ffff-451c-a85f-f342bd68e3cd');\n",
       "          const dataTable =\n",
       "            await google.colab.kernel.invokeFunction('convertToInteractive',\n",
       "                                                     [key], {});\n",
       "          if (!dataTable) return;\n",
       "\n",
       "          const docLinkHtml = 'Like what you see? Visit the ' +\n",
       "            '<a target=\"_blank\" href=https://colab.research.google.com/notebooks/data_table.ipynb>data table notebook</a>'\n",
       "            + ' to learn more about interactive tables.';\n",
       "          element.innerHTML = '';\n",
       "          dataTable['output_type'] = 'display_data';\n",
       "          await google.colab.output.renderOutput(dataTable, element);\n",
       "          const docLink = document.createElement('div');\n",
       "          docLink.innerHTML = docLinkHtml;\n",
       "          element.appendChild(docLink);\n",
       "        }\n",
       "      </script>\n",
       "    </div>\n",
       "  </div>\n",
       "  "
      ],
      "text/plain": [
       "          Logistic Regression     KNN_1    KNN_10 KNN_10_weighted\n",
       "precision            0.783333  0.779762  0.844444        0.811966\n",
       "recall               0.786325  0.774929  0.849003        0.811966\n",
       "F1-macro              0.78386  0.776325  0.845614        0.811966"
      ]
     },
     "execution_count": 64,
     "metadata": {},
     "output_type": "execute_result"
    }
   ],
   "source": [
    "scores = pd.DataFrame(score_logistic_regression, index = ['precision', 'recall', 'F1-macro','support'])\n",
    "scores.rename(columns = {0:'Logistic Regression'}, inplace = True)\n",
    "scores['KNN_1'] = score_knn_1\n",
    "scores['KNN_10'] = score_knn_10\n",
    "scores['KNN_10_weighted'] = score_knn_10_weighted\n",
    "scores = scores.drop(labels = 'support', axis = 0)\n",
    "\n",
    "scores"
   ]
  },
  {
   "cell_type": "markdown",
   "metadata": {
    "id": "C-x_a-BlRS1i"
   },
   "source": [
    "##Bài 5"
   ]
  },
  {
   "cell_type": "markdown",
   "metadata": {
    "id": "gWh5bu6NRUoG"
   },
   "source": [
    "**Sử dụng chiến lược tinh chỉnh tham số GridSearchCV để tìm ra bộ tham số tốt nhất cho mô hình Logistic Regression.**"
   ]
  },
  {
   "cell_type": "code",
   "execution_count": 65,
   "metadata": {
    "colab": {
     "base_uri": "https://localhost:8080/"
    },
    "id": "rqMl9SyfRqqc",
    "outputId": "e7ad129d-715c-4a4e-fd69-465d5de10117"
   },
   "outputs": [
    {
     "name": "stderr",
     "output_type": "stream",
     "text": [
      "/usr/local/lib/python3.7/dist-packages/sklearn/model_selection/_validation.py:372: FitFailedWarning: \n",
      "140 fits failed out of a total of 280.\n",
      "The score on these train-test partitions for these parameters will be set to nan.\n",
      "If these failures are not expected, you can try to debug them by setting error_score='raise'.\n",
      "\n",
      "Below are more details about the failures:\n",
      "--------------------------------------------------------------------------------\n",
      "140 fits failed with the following error:\n",
      "Traceback (most recent call last):\n",
      "  File \"/usr/local/lib/python3.7/dist-packages/sklearn/model_selection/_validation.py\", line 680, in _fit_and_score\n",
      "    estimator.fit(X_train, y_train, **fit_params)\n",
      "  File \"/usr/local/lib/python3.7/dist-packages/sklearn/linear_model/_logistic.py\", line 1461, in fit\n",
      "    solver = _check_solver(self.solver, self.penalty, self.dual)\n",
      "  File \"/usr/local/lib/python3.7/dist-packages/sklearn/linear_model/_logistic.py\", line 449, in _check_solver\n",
      "    % (solver, penalty)\n",
      "ValueError: Solver lbfgs supports only 'l2' or 'none' penalties, got l1 penalty.\n",
      "\n",
      "  warnings.warn(some_fits_failed_message, FitFailedWarning)\n",
      "/usr/local/lib/python3.7/dist-packages/sklearn/model_selection/_search.py:972: UserWarning: One or more of the test scores are non-finite: [       nan 0.4               nan 0.475             nan 0.65833333\n",
      "        nan 0.675             nan 0.74166667        nan 0.775\n",
      "        nan 0.78333333        nan 0.78333333        nan 0.775\n",
      "        nan 0.78333333        nan 0.78333333        nan 0.78333333\n",
      "        nan 0.78333333        nan 0.78333333]\n",
      "  category=UserWarning,\n"
     ]
    }
   ],
   "source": [
    "from sklearn.model_selection import GridSearchCV \n",
    "\n",
    "grid={\"C\":np.logspace(-3,3,7), \"penalty\":[\"l1\",\"l2\"], \"multi_class\": [\"ovr\",\"multinomial\"]}\n",
    "\n",
    "gridsearchcv=GridSearchCV(model,grid,cv=10)\n",
    "gridsearchcv.fit(X_train, y_train)\n",
    "\n",
    "y_pred_grid = gridsearchcv.predict(X_test)"
   ]
  },
  {
   "cell_type": "code",
   "execution_count": 66,
   "metadata": {
    "colab": {
     "base_uri": "https://localhost:8080/"
    },
    "id": "Z0wwxCQwRv7j",
    "outputId": "0e96ffbb-21cb-4e1a-8636-8cd71561d0c5"
   },
   "outputs": [
    {
     "data": {
      "text/plain": [
       "{'C': 1.0, 'multi_class': 'ovr', 'penalty': 'l2'}"
      ]
     },
     "execution_count": 66,
     "metadata": {},
     "output_type": "execute_result"
    }
   ],
   "source": [
    "gridsearchcv.best_params_"
   ]
  },
  {
   "cell_type": "code",
   "execution_count": 67,
   "metadata": {
    "colab": {
     "base_uri": "https://localhost:8080/"
    },
    "id": "DHlwL7mbRymJ",
    "outputId": "c89b8ed1-61ed-4843-ce10-ebf2dcd30a34"
   },
   "outputs": [
    {
     "name": "stdout",
     "output_type": "stream",
     "text": [
      "Logistic Regression's intercept:  [ 7.53696068  1.90177949 -9.43874017]\n",
      "Logistic Regression's coef: \n",
      "[[-2.54584533  2.16224437]\n",
      " [ 0.64973116 -1.68140638]\n",
      " [ 1.89611417 -0.48083798]]\n"
     ]
    }
   ],
   "source": [
    "print(\"Logistic Regression's intercept: \",model.intercept_)\n",
    "print(\"Logistic Regression's coef: \")\n",
    "print(model.coef_)"
   ]
  },
  {
   "cell_type": "code",
   "execution_count": 68,
   "metadata": {
    "colab": {
     "base_uri": "https://localhost:8080/"
    },
    "id": "ZHN9zcusR06o",
    "outputId": "491a189c-7fb3-4aec-c320-8ad609254ff5"
   },
   "outputs": [
    {
     "name": "stdout",
     "output_type": "stream",
     "text": [
      "Intercept after GridSearchCV:  [  8.08151962   5.19918985 -12.05944216]\n",
      "Coef after GridSearchCV: \n",
      "[[-3.20863865  2.94353931]\n",
      " [ 0.26209695 -2.46289062]\n",
      " [ 2.03196927 -0.30779416]]\n"
     ]
    }
   ],
   "source": [
    "print(\"Intercept after GridSearchCV: \", gridsearchcv.best_estimator_.intercept_)\n",
    "print(\"Coef after GridSearchCV: \")\n",
    "print(gridsearchcv.best_estimator_.coef_)"
   ]
  },
  {
   "cell_type": "code",
   "execution_count": 69,
   "metadata": {
    "colab": {
     "base_uri": "https://localhost:8080/",
     "height": 143
    },
    "id": "foTBCcJZR46H",
    "outputId": "6f2f1b01-aa87-4cc9-a9d8-42d392f06a33"
   },
   "outputs": [
    {
     "data": {
      "text/html": [
       "\n",
       "  <div id=\"df-6b0bbb84-06ab-47a5-87c4-efb2fbcb688f\">\n",
       "    <div class=\"colab-df-container\">\n",
       "      <div>\n",
       "<style scoped>\n",
       "    .dataframe tbody tr th:only-of-type {\n",
       "        vertical-align: middle;\n",
       "    }\n",
       "\n",
       "    .dataframe tbody tr th {\n",
       "        vertical-align: top;\n",
       "    }\n",
       "\n",
       "    .dataframe thead th {\n",
       "        text-align: right;\n",
       "    }\n",
       "</style>\n",
       "<table border=\"1\" class=\"dataframe\">\n",
       "  <thead>\n",
       "    <tr style=\"text-align: right;\">\n",
       "      <th></th>\n",
       "      <th>Logistic Regression</th>\n",
       "      <th>GridSearchCV</th>\n",
       "    </tr>\n",
       "  </thead>\n",
       "  <tbody>\n",
       "    <tr>\n",
       "      <th>precision</th>\n",
       "      <td>0.783333</td>\n",
       "      <td>0.783333</td>\n",
       "    </tr>\n",
       "    <tr>\n",
       "      <th>recall</th>\n",
       "      <td>0.786325</td>\n",
       "      <td>0.786325</td>\n",
       "    </tr>\n",
       "    <tr>\n",
       "      <th>F1-macro</th>\n",
       "      <td>0.78386</td>\n",
       "      <td>0.78386</td>\n",
       "    </tr>\n",
       "  </tbody>\n",
       "</table>\n",
       "</div>\n",
       "      <button class=\"colab-df-convert\" onclick=\"convertToInteractive('df-6b0bbb84-06ab-47a5-87c4-efb2fbcb688f')\"\n",
       "              title=\"Convert this dataframe to an interactive table.\"\n",
       "              style=\"display:none;\">\n",
       "        \n",
       "  <svg xmlns=\"http://www.w3.org/2000/svg\" height=\"24px\"viewBox=\"0 0 24 24\"\n",
       "       width=\"24px\">\n",
       "    <path d=\"M0 0h24v24H0V0z\" fill=\"none\"/>\n",
       "    <path d=\"M18.56 5.44l.94 2.06.94-2.06 2.06-.94-2.06-.94-.94-2.06-.94 2.06-2.06.94zm-11 1L8.5 8.5l.94-2.06 2.06-.94-2.06-.94L8.5 2.5l-.94 2.06-2.06.94zm10 10l.94 2.06.94-2.06 2.06-.94-2.06-.94-.94-2.06-.94 2.06-2.06.94z\"/><path d=\"M17.41 7.96l-1.37-1.37c-.4-.4-.92-.59-1.43-.59-.52 0-1.04.2-1.43.59L10.3 9.45l-7.72 7.72c-.78.78-.78 2.05 0 2.83L4 21.41c.39.39.9.59 1.41.59.51 0 1.02-.2 1.41-.59l7.78-7.78 2.81-2.81c.8-.78.8-2.07 0-2.86zM5.41 20L4 18.59l7.72-7.72 1.47 1.35L5.41 20z\"/>\n",
       "  </svg>\n",
       "      </button>\n",
       "      \n",
       "  <style>\n",
       "    .colab-df-container {\n",
       "      display:flex;\n",
       "      flex-wrap:wrap;\n",
       "      gap: 12px;\n",
       "    }\n",
       "\n",
       "    .colab-df-convert {\n",
       "      background-color: #E8F0FE;\n",
       "      border: none;\n",
       "      border-radius: 50%;\n",
       "      cursor: pointer;\n",
       "      display: none;\n",
       "      fill: #1967D2;\n",
       "      height: 32px;\n",
       "      padding: 0 0 0 0;\n",
       "      width: 32px;\n",
       "    }\n",
       "\n",
       "    .colab-df-convert:hover {\n",
       "      background-color: #E2EBFA;\n",
       "      box-shadow: 0px 1px 2px rgba(60, 64, 67, 0.3), 0px 1px 3px 1px rgba(60, 64, 67, 0.15);\n",
       "      fill: #174EA6;\n",
       "    }\n",
       "\n",
       "    [theme=dark] .colab-df-convert {\n",
       "      background-color: #3B4455;\n",
       "      fill: #D2E3FC;\n",
       "    }\n",
       "\n",
       "    [theme=dark] .colab-df-convert:hover {\n",
       "      background-color: #434B5C;\n",
       "      box-shadow: 0px 1px 3px 1px rgba(0, 0, 0, 0.15);\n",
       "      filter: drop-shadow(0px 1px 2px rgba(0, 0, 0, 0.3));\n",
       "      fill: #FFFFFF;\n",
       "    }\n",
       "  </style>\n",
       "\n",
       "      <script>\n",
       "        const buttonEl =\n",
       "          document.querySelector('#df-6b0bbb84-06ab-47a5-87c4-efb2fbcb688f button.colab-df-convert');\n",
       "        buttonEl.style.display =\n",
       "          google.colab.kernel.accessAllowed ? 'block' : 'none';\n",
       "\n",
       "        async function convertToInteractive(key) {\n",
       "          const element = document.querySelector('#df-6b0bbb84-06ab-47a5-87c4-efb2fbcb688f');\n",
       "          const dataTable =\n",
       "            await google.colab.kernel.invokeFunction('convertToInteractive',\n",
       "                                                     [key], {});\n",
       "          if (!dataTable) return;\n",
       "\n",
       "          const docLinkHtml = 'Like what you see? Visit the ' +\n",
       "            '<a target=\"_blank\" href=https://colab.research.google.com/notebooks/data_table.ipynb>data table notebook</a>'\n",
       "            + ' to learn more about interactive tables.';\n",
       "          element.innerHTML = '';\n",
       "          dataTable['output_type'] = 'display_data';\n",
       "          await google.colab.output.renderOutput(dataTable, element);\n",
       "          const docLink = document.createElement('div');\n",
       "          docLink.innerHTML = docLinkHtml;\n",
       "          element.appendChild(docLink);\n",
       "        }\n",
       "      </script>\n",
       "    </div>\n",
       "  </div>\n",
       "  "
      ],
      "text/plain": [
       "          Logistic Regression GridSearchCV\n",
       "precision            0.783333     0.783333\n",
       "recall               0.786325     0.786325\n",
       "F1-macro              0.78386      0.78386"
      ]
     },
     "execution_count": 69,
     "metadata": {},
     "output_type": "execute_result"
    }
   ],
   "source": [
    "score_grid = np.asarray(precision_recall_fscore_support(y_test, y_pred_grid, average = 'macro')).reshape(-1,1)\n",
    "\n",
    "scores = pd.DataFrame(score_logistic_regression, index = ['precision', 'recall', 'F1-macro','support'])\n",
    "scores.rename(columns = {0:'Logistic Regression'}, inplace = True)\n",
    "scores['GridSearchCV'] = score_grid\n",
    "scores = scores.drop(labels = 'support', axis = 0)\n",
    "scores"
   ]
  }
 ],
 "metadata": {
  "colab": {
   "name": "20520579_Classifiers_Iris.ipynb",
   "provenance": []
  },
  "kernelspec": {
   "display_name": "Python 3 (ipykernel)",
   "language": "python",
   "name": "python3"
  },
  "language_info": {
   "codemirror_mode": {
    "name": "ipython",
    "version": 3
   },
   "file_extension": ".py",
   "mimetype": "text/x-python",
   "name": "python",
   "nbconvert_exporter": "python",
   "pygments_lexer": "ipython3",
   "version": "3.9.7"
  }
 },
 "nbformat": 4,
 "nbformat_minor": 1
}
